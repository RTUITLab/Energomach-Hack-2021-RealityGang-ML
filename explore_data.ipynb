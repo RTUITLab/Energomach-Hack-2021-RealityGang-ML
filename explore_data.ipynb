{
 "metadata": {
  "language_info": {
   "codemirror_mode": {
    "name": "ipython",
    "version": 3
   },
   "file_extension": ".py",
   "mimetype": "text/x-python",
   "name": "python",
   "nbconvert_exporter": "python",
   "pygments_lexer": "ipython3",
   "version": "3.7.9"
  },
  "orig_nbformat": 2,
  "kernelspec": {
   "name": "python379jvsc74a57bd075aa73c79266d4692a2df8ead62ea8bbacfe1ac0263c8d6d94a969dc4efeff59",
   "display_name": "Python 3.7.9 64-bit"
  }
 },
 "nbformat": 4,
 "nbformat_minor": 2,
 "cells": [
  {
   "cell_type": "code",
   "execution_count": 15,
   "metadata": {},
   "outputs": [],
   "source": [
    "import pandas as pd\n",
    "import numpy as np\n",
    "import matplotlib.pyplot as plt\n",
    "import json\n",
    "\n",
    "\n",
    "%matplotlib inline"
   ]
  },
  {
   "cell_type": "code",
   "execution_count": 16,
   "metadata": {},
   "outputs": [],
   "source": [
    "PATH_TO_SUBSIDIES = r'data\\Данные Меры поддержки на сайте ГИСП.csv'\n",
    "PATH_TO_ALLOCATORS = r'data\\Реестр субсидий\\allocators.json'\n",
    "PATH_TO_RECIEVERS = r'data\\Реестр субсидий\\receivers.json'\n",
    "\n",
    "ENCODING = 'cp1251'"
   ]
  },
  {
   "cell_type": "code",
   "execution_count": 17,
   "metadata": {},
   "outputs": [
    {
     "output_type": "execute_result",
     "data": {
      "text/plain": [
       "       \"ID\"                                              \"URL\"  \\\n",
       "0  12447263  https://gisp.gov.ru/support-measures/list/1244...   \n",
       "1  12447262  https://gisp.gov.ru/support-measures/list/1244...   \n",
       "2  12447261  https://gisp.gov.ru/support-measures/list/1244...   \n",
       "3  12447260  https://gisp.gov.ru/support-measures/list/1244...   \n",
       "4  12447259  https://gisp.gov.ru/support-measures/list/1244...   \n",
       "\n",
       "                                        \"SMALL_NAME\"  \\\n",
       "0  Субсидия на возмещение части затрат субъектов ...   \n",
       "1  Субсидия на возмещение части затрат субъектов ...   \n",
       "2  Субсидия на возмещение части затрат субъектов ...   \n",
       "3  Субсидия на компенсацию части затрат субъектов...   \n",
       "4  Субсидия на компенсацию части затрат субъектов...   \n",
       "\n",
       "                                         \"FULL_NAME\" \"NUMBER_NPA\"  \"DATE_NPA\"  \\\n",
       "0  Субсидия на возмещение части затрат субъектов ...    № 267-П    23.07.2018   \n",
       "1  Субсидия на возмещение части затрат субъектов ...    № 267-П    23.07.2018   \n",
       "2  Субсидия на возмещение части затрат субъектов ...    № 267-П    23.07.2018   \n",
       "3  Субсидия на компенсацию части затрат субъектов...    № 267-П    23.07.2018   \n",
       "4  Субсидия на компенсацию части затрат субъектов...    № 267-П    23.07.2018   \n",
       "\n",
       "                                          \"NPA_NAME\"  \\\n",
       "0  Постановление Правительства РК от 23.07.2018 N...   \n",
       "1  Постановление Правительства РК от 23.07.2018 N...   \n",
       "2  Постановление Правительства РК от 23.07.2018 N...   \n",
       "3  Постановление Правительства РК от 23.07.2018 N...   \n",
       "4  Постановление Правительства РК от 23.07.2018 N...   \n",
       "\n",
       "                                       \"DESCRIPTION\" \"PURPOSE\"  \\\n",
       "0  При возмещении части затрат субъектов малого и...       NaN   \n",
       "1  При возмещении части затрат субъектов малого и...       NaN   \n",
       "2  При возмещении части затрат субъектов малого и...       NaN   \n",
       "3  При компенсации части затрат субъектов малого ...       NaN   \n",
       "4  При компенсации части затрат субъектов малого ...       NaN   \n",
       "\n",
       "                                         \"OBJECTIVE\"  ...  \\\n",
       "0  Государственная поддержка субъектов малого и с...  ...   \n",
       "1  Государственная поддержка субъектов малого и с...  ...   \n",
       "2  Государственная поддержка субъектов малого и с...  ...   \n",
       "3  Государственная поддержка субъектов малого и с...  ...   \n",
       "4  Государственная поддержка субъектов малого и с...  ...   \n",
       "\n",
       "                                     \"REQ_ZAYAVITEL\" \"REQUEST_PROJECT\"  \\\n",
       "0  На дату подачи документов для участия в конкур...               NaN   \n",
       "1  На дату подачи документов для участия в конкур...               NaN   \n",
       "2  На дату подачи документов для участия в конкур...               NaN   \n",
       "3  На дату подачи документов для участия в конкур...               NaN   \n",
       "4  На дату подачи документов для участия в конкур...               NaN   \n",
       "\n",
       "  \"IS_SOFINANCE\" \"DOLYA_ISOFINANCE\" \"BUDGET_PROJECT\"  \"POKAZATEL_RESULT\"  \\\n",
       "0          False                NaN              NaN                 NaN   \n",
       "1          False                NaN              NaN                 NaN   \n",
       "2          False                NaN              NaN                 NaN   \n",
       "3          False                NaN              NaN                 NaN   \n",
       "4          False                NaN              NaN                 NaN   \n",
       "\n",
       "  \"TERRITORIAL_LEVEL\"         \"REGION_ID\" \"RESPONS_STRUCTURE\" \"ORG_ID\"  \n",
       "0        Региональный  Республика Карелия                РОИВ      NaN  \n",
       "1        Региональный  Республика Карелия                РОИВ      NaN  \n",
       "2        Региональный  Республика Карелия                РОИВ      NaN  \n",
       "3        Региональный  Республика Карелия                РОИВ      NaN  \n",
       "4        Региональный  Республика Карелия                РОИВ      NaN  \n",
       "\n",
       "[5 rows x 38 columns]"
      ],
      "text/html": "<div>\n<style scoped>\n    .dataframe tbody tr th:only-of-type {\n        vertical-align: middle;\n    }\n\n    .dataframe tbody tr th {\n        vertical-align: top;\n    }\n\n    .dataframe thead th {\n        text-align: right;\n    }\n</style>\n<table border=\"1\" class=\"dataframe\">\n  <thead>\n    <tr style=\"text-align: right;\">\n      <th></th>\n      <th>\"ID\"</th>\n      <th>\"URL\"</th>\n      <th>\"SMALL_NAME\"</th>\n      <th>\"FULL_NAME\"</th>\n      <th>\"NUMBER_NPA\"</th>\n      <th>\"DATE_NPA\"</th>\n      <th>\"NPA_NAME\"</th>\n      <th>\"DESCRIPTION\"</th>\n      <th>\"PURPOSE\"</th>\n      <th>\"OBJECTIVE\"</th>\n      <th>...</th>\n      <th>\"REQ_ZAYAVITEL\"</th>\n      <th>\"REQUEST_PROJECT\"</th>\n      <th>\"IS_SOFINANCE\"</th>\n      <th>\"DOLYA_ISOFINANCE\"</th>\n      <th>\"BUDGET_PROJECT\"</th>\n      <th>\"POKAZATEL_RESULT\"</th>\n      <th>\"TERRITORIAL_LEVEL\"</th>\n      <th>\"REGION_ID\"</th>\n      <th>\"RESPONS_STRUCTURE\"</th>\n      <th>\"ORG_ID\"</th>\n    </tr>\n  </thead>\n  <tbody>\n    <tr>\n      <th>0</th>\n      <td>12447263</td>\n      <td>https://gisp.gov.ru/support-measures/list/1244...</td>\n      <td>Субсидия на возмещение части затрат субъектов ...</td>\n      <td>Субсидия на возмещение части затрат субъектов ...</td>\n      <td>№ 267-П</td>\n      <td>23.07.2018</td>\n      <td>Постановление Правительства РК от 23.07.2018 N...</td>\n      <td>При возмещении части затрат субъектов малого и...</td>\n      <td>NaN</td>\n      <td>Государственная поддержка субъектов малого и с...</td>\n      <td>...</td>\n      <td>На дату подачи документов для участия в конкур...</td>\n      <td>NaN</td>\n      <td>False</td>\n      <td>NaN</td>\n      <td>NaN</td>\n      <td>NaN</td>\n      <td>Региональный</td>\n      <td>Республика Карелия</td>\n      <td>РОИВ</td>\n      <td>NaN</td>\n    </tr>\n    <tr>\n      <th>1</th>\n      <td>12447262</td>\n      <td>https://gisp.gov.ru/support-measures/list/1244...</td>\n      <td>Субсидия на возмещение части затрат субъектов ...</td>\n      <td>Субсидия на возмещение части затрат субъектов ...</td>\n      <td>№ 267-П</td>\n      <td>23.07.2018</td>\n      <td>Постановление Правительства РК от 23.07.2018 N...</td>\n      <td>При возмещении части затрат субъектов малого и...</td>\n      <td>NaN</td>\n      <td>Государственная поддержка субъектов малого и с...</td>\n      <td>...</td>\n      <td>На дату подачи документов для участия в конкур...</td>\n      <td>NaN</td>\n      <td>False</td>\n      <td>NaN</td>\n      <td>NaN</td>\n      <td>NaN</td>\n      <td>Региональный</td>\n      <td>Республика Карелия</td>\n      <td>РОИВ</td>\n      <td>NaN</td>\n    </tr>\n    <tr>\n      <th>2</th>\n      <td>12447261</td>\n      <td>https://gisp.gov.ru/support-measures/list/1244...</td>\n      <td>Субсидия на возмещение части затрат субъектов ...</td>\n      <td>Субсидия на возмещение части затрат субъектов ...</td>\n      <td>№ 267-П</td>\n      <td>23.07.2018</td>\n      <td>Постановление Правительства РК от 23.07.2018 N...</td>\n      <td>При возмещении части затрат субъектов малого и...</td>\n      <td>NaN</td>\n      <td>Государственная поддержка субъектов малого и с...</td>\n      <td>...</td>\n      <td>На дату подачи документов для участия в конкур...</td>\n      <td>NaN</td>\n      <td>False</td>\n      <td>NaN</td>\n      <td>NaN</td>\n      <td>NaN</td>\n      <td>Региональный</td>\n      <td>Республика Карелия</td>\n      <td>РОИВ</td>\n      <td>NaN</td>\n    </tr>\n    <tr>\n      <th>3</th>\n      <td>12447260</td>\n      <td>https://gisp.gov.ru/support-measures/list/1244...</td>\n      <td>Субсидия на компенсацию части затрат субъектов...</td>\n      <td>Субсидия на компенсацию части затрат субъектов...</td>\n      <td>№ 267-П</td>\n      <td>23.07.2018</td>\n      <td>Постановление Правительства РК от 23.07.2018 N...</td>\n      <td>При компенсации части затрат субъектов малого ...</td>\n      <td>NaN</td>\n      <td>Государственная поддержка субъектов малого и с...</td>\n      <td>...</td>\n      <td>На дату подачи документов для участия в конкур...</td>\n      <td>NaN</td>\n      <td>False</td>\n      <td>NaN</td>\n      <td>NaN</td>\n      <td>NaN</td>\n      <td>Региональный</td>\n      <td>Республика Карелия</td>\n      <td>РОИВ</td>\n      <td>NaN</td>\n    </tr>\n    <tr>\n      <th>4</th>\n      <td>12447259</td>\n      <td>https://gisp.gov.ru/support-measures/list/1244...</td>\n      <td>Субсидия на компенсацию части затрат субъектов...</td>\n      <td>Субсидия на компенсацию части затрат субъектов...</td>\n      <td>№ 267-П</td>\n      <td>23.07.2018</td>\n      <td>Постановление Правительства РК от 23.07.2018 N...</td>\n      <td>При компенсации части затрат субъектов малого ...</td>\n      <td>NaN</td>\n      <td>Государственная поддержка субъектов малого и с...</td>\n      <td>...</td>\n      <td>На дату подачи документов для участия в конкур...</td>\n      <td>NaN</td>\n      <td>False</td>\n      <td>NaN</td>\n      <td>NaN</td>\n      <td>NaN</td>\n      <td>Региональный</td>\n      <td>Республика Карелия</td>\n      <td>РОИВ</td>\n      <td>NaN</td>\n    </tr>\n  </tbody>\n</table>\n<p>5 rows × 38 columns</p>\n</div>"
     },
     "metadata": {},
     "execution_count": 17
    }
   ],
   "source": [
    "subsidies = pd.read_csv(PATH_TO_SUBSIDIES, sep=';', encoding=ENCODING)\n",
    "subsidies.head()"
   ]
  },
  {
   "cell_type": "code",
   "execution_count": 52,
   "metadata": {},
   "outputs": [],
   "source": [
    "DUMPS = []\n",
    "\n",
    "with open(r'data\\Реестр субсидий\\subs_dump_13.json', 'r', encoding=\"utf8\") as f:\n",
    "    for data in f:\n",
    "        DUMPS.append(json.loads(data))"
   ]
  },
  {
   "cell_type": "code",
   "execution_count": 53,
   "metadata": {},
   "outputs": [
    {
     "output_type": "stream",
     "name": "stdout",
     "text": [
      "info\ngrbs\nplans\nreceiver\nfaip\nmarks\nnpa\nbo\nconstruct\nsubjectNpa\nplansSubject\nfaipSubject\ninfosub\ninfocost\ninfoind\naddagreement\nid\ntypereport\nreportdocs\nparentid\nplansNormalized\n"
     ]
    }
   ],
   "source": [
    "print(\"\\n\".join(list(DUMPS[0].keys())))"
   ]
  },
  {
   "cell_type": "code",
   "execution_count": 55,
   "metadata": {},
   "outputs": [
    {
     "output_type": "execute_result",
     "data": {
      "text/plain": [
       "[]"
      ]
     },
     "metadata": {},
     "execution_count": 55
    }
   ],
   "source": [
    "DUMPS[0]['plans']"
   ]
  },
  {
   "cell_type": "code",
   "execution_count": null,
   "metadata": {},
   "outputs": [],
   "source": []
  }
 ]
}