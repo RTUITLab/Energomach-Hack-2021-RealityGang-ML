{
 "cells": [
  {
   "cell_type": "code",
   "execution_count": 101,
   "metadata": {},
   "outputs": [],
   "source": [
    "import pandas as pd\n",
    "import numpy as np\n",
    "import matplotlib.pyplot as plt\n",
    "import json\n",
    "import os\n",
    "import statistics\n",
    "\n",
    "\n",
    "from sklearn import preprocessing\n",
    "\n",
    "%matplotlib inline"
   ]
  },
  {
   "cell_type": "code",
   "execution_count": 2,
   "metadata": {},
   "outputs": [],
   "source": [
    "PATH_TO_SUBSIDIES = r'data\\Данные Меры поддержки на сайте ГИСП.csv'\n",
    "PATH_TO_ALLOCATORS = r'data\\Реестр субсидий\\allocators.json'\n",
    "PATH_TO_RECIEVERS = r'data\\Реестр субсидий\\receivers.json'\n",
    "\n",
    "ENCODING = 'cp1251'"
   ]
  },
  {
   "cell_type": "code",
   "execution_count": 3,
   "metadata": {},
   "outputs": [
    {
     "data": {
      "text/html": [
       "<div>\n",
       "<style scoped>\n",
       "    .dataframe tbody tr th:only-of-type {\n",
       "        vertical-align: middle;\n",
       "    }\n",
       "\n",
       "    .dataframe tbody tr th {\n",
       "        vertical-align: top;\n",
       "    }\n",
       "\n",
       "    .dataframe thead th {\n",
       "        text-align: right;\n",
       "    }\n",
       "</style>\n",
       "<table border=\"1\" class=\"dataframe\">\n",
       "  <thead>\n",
       "    <tr style=\"text-align: right;\">\n",
       "      <th></th>\n",
       "      <th>ОКВЭД2</th>\n",
       "      <th>Вид деятельности, основной ТАСС</th>\n",
       "      <th>Вид деятельности, дополнительный ТАСС</th>\n",
       "      <th>Организационно правовая форма</th>\n",
       "      <th>Тип компании</th>\n",
       "      <th>Атрибуты предприятия</th>\n",
       "      <th>Отрасль</th>\n",
       "      <th>ОГРН</th>\n",
       "      <th>ИНН</th>\n",
       "      <th>КПП</th>\n",
       "      <th>Регион</th>\n",
       "    </tr>\n",
       "  </thead>\n",
       "  <tbody>\n",
       "    <tr>\n",
       "      <th>0</th>\n",
       "      <td>Производство элементов электронной аппаратуры ...</td>\n",
       "      <td>Производство элементов электронной аппаратуры ...</td>\n",
       "      <td>Деятельность вспомогательная прочая, связанная...</td>\n",
       "      <td>НЕПУБЛИЧНЫЕ АКЦИОНЕРНЫЕ ОБЩЕСТВА [7026704]</td>\n",
       "      <td>Организация [7026691]</td>\n",
       "      <td>Предприятие, оказывающее существенное влияние ...</td>\n",
       "      <td>Радиоэлектронная промышленность [258]</td>\n",
       "      <td>1027700140930</td>\n",
       "      <td>7.735011e+09</td>\n",
       "      <td>773501001</td>\n",
       "      <td>Москва [3505]</td>\n",
       "    </tr>\n",
       "    <tr>\n",
       "      <th>1</th>\n",
       "      <td>Производство оружия и боеприпасов [27574]</td>\n",
       "      <td>Производство оружия и боеприпасов [27575]</td>\n",
       "      <td>Производство коммуникационного оборудования [2...</td>\n",
       "      <td>АКЦИОНЕРНЫЕ ОБЩЕСТВА [7026719]</td>\n",
       "      <td>Организация [7026691]</td>\n",
       "      <td>Системообразующее предприятие [8690579] / Орга...</td>\n",
       "      <td>Радиоэлектронная промышленность [258]</td>\n",
       "      <td>1027739001993</td>\n",
       "      <td>7.731084e+09</td>\n",
       "      <td>997450001</td>\n",
       "      <td>Москва [3505]</td>\n",
       "    </tr>\n",
       "    <tr>\n",
       "      <th>2</th>\n",
       "      <td>Производство оружия и боеприпасов [27575]</td>\n",
       "      <td>Производство оружия и боеприпасов [27575]</td>\n",
       "      <td>Лесоводство и прочая лесохозяйственная деятель...</td>\n",
       "      <td>НЕПУБЛИЧНЫЕ АКЦИОНЕРНЫЕ ОБЩЕСТВА [7026704]</td>\n",
       "      <td>Организация [7026691]</td>\n",
       "      <td>Организация ОПК [8780665] / Системообразующее ...</td>\n",
       "      <td>Промышленность боеприпасов и спецхимии [256]</td>\n",
       "      <td>1127154020311</td>\n",
       "      <td>7.105516e+09</td>\n",
       "      <td>710501001</td>\n",
       "      <td>Тульская область [3535]</td>\n",
       "    </tr>\n",
       "    <tr>\n",
       "      <th>3</th>\n",
       "      <td>Производство красителей и пигментов [27354] / ...</td>\n",
       "      <td>Производство оружия и боеприпасов [27575]</td>\n",
       "      <td>Производство красителей и пигментов [27354] / ...</td>\n",
       "      <td>ФЕДЕРАЛЬНЫЕ ГОСУДАРСТВЕННЫЕ УНИТАРНЫЕ ПРЕДПРИЯ...</td>\n",
       "      <td>Организация [7026691]</td>\n",
       "      <td>Одобрено Минпромторгом России [8690599] / Орга...</td>\n",
       "      <td>Промышленность боеприпасов и спецхимии [256]</td>\n",
       "      <td>1034700561895</td>\n",
       "      <td>4.703010e+09</td>\n",
       "      <td>470350001</td>\n",
       "      <td>Ленинградская область [3500]</td>\n",
       "    </tr>\n",
       "    <tr>\n",
       "      <th>4</th>\n",
       "      <td>Производство коммуникационного оборудования [2...</td>\n",
       "      <td>Научные исследования и разработки в области ес...</td>\n",
       "      <td>Производство коммуникационного оборудования [2...</td>\n",
       "      <td>НЕПУБЛИЧНЫЕ АКЦИОНЕРНЫЕ ОБЩЕСТВА [7026704]</td>\n",
       "      <td>Организация [7026691]</td>\n",
       "      <td>Системообразующее предприятие [8690579] / Орга...</td>\n",
       "      <td>Радиоэлектронная промышленность [258]</td>\n",
       "      <td>1037730020844</td>\n",
       "      <td>7.730170e+09</td>\n",
       "      <td>773001001</td>\n",
       "      <td>Москва [3505]</td>\n",
       "    </tr>\n",
       "  </tbody>\n",
       "</table>\n",
       "</div>"
      ],
      "text/plain": [
       "                                              ОКВЭД2  \\\n",
       "0  Производство элементов электронной аппаратуры ...   \n",
       "1          Производство оружия и боеприпасов [27574]   \n",
       "2          Производство оружия и боеприпасов [27575]   \n",
       "3  Производство красителей и пигментов [27354] / ...   \n",
       "4  Производство коммуникационного оборудования [2...   \n",
       "\n",
       "                     Вид деятельности, основной ТАСС  \\\n",
       "0  Производство элементов электронной аппаратуры ...   \n",
       "1          Производство оружия и боеприпасов [27575]   \n",
       "2          Производство оружия и боеприпасов [27575]   \n",
       "3          Производство оружия и боеприпасов [27575]   \n",
       "4  Научные исследования и разработки в области ес...   \n",
       "\n",
       "               Вид деятельности, дополнительный ТАСС  \\\n",
       "0  Деятельность вспомогательная прочая, связанная...   \n",
       "1  Производство коммуникационного оборудования [2...   \n",
       "2  Лесоводство и прочая лесохозяйственная деятель...   \n",
       "3  Производство красителей и пигментов [27354] / ...   \n",
       "4  Производство коммуникационного оборудования [2...   \n",
       "\n",
       "                       Организационно правовая форма           Тип компании  \\\n",
       "0         НЕПУБЛИЧНЫЕ АКЦИОНЕРНЫЕ ОБЩЕСТВА [7026704]  Организация [7026691]   \n",
       "1                     АКЦИОНЕРНЫЕ ОБЩЕСТВА [7026719]  Организация [7026691]   \n",
       "2         НЕПУБЛИЧНЫЕ АКЦИОНЕРНЫЕ ОБЩЕСТВА [7026704]  Организация [7026691]   \n",
       "3  ФЕДЕРАЛЬНЫЕ ГОСУДАРСТВЕННЫЕ УНИТАРНЫЕ ПРЕДПРИЯ...  Организация [7026691]   \n",
       "4         НЕПУБЛИЧНЫЕ АКЦИОНЕРНЫЕ ОБЩЕСТВА [7026704]  Организация [7026691]   \n",
       "\n",
       "                                Атрибуты предприятия  \\\n",
       "0  Предприятие, оказывающее существенное влияние ...   \n",
       "1  Системообразующее предприятие [8690579] / Орга...   \n",
       "2  Организация ОПК [8780665] / Системообразующее ...   \n",
       "3  Одобрено Минпромторгом России [8690599] / Орга...   \n",
       "4  Системообразующее предприятие [8690579] / Орга...   \n",
       "\n",
       "                                        Отрасль           ОГРН           ИНН  \\\n",
       "0         Радиоэлектронная промышленность [258]  1027700140930  7.735011e+09   \n",
       "1         Радиоэлектронная промышленность [258]  1027739001993  7.731084e+09   \n",
       "2  Промышленность боеприпасов и спецхимии [256]  1127154020311  7.105516e+09   \n",
       "3  Промышленность боеприпасов и спецхимии [256]  1034700561895  4.703010e+09   \n",
       "4         Радиоэлектронная промышленность [258]  1037730020844  7.730170e+09   \n",
       "\n",
       "         КПП                        Регион  \n",
       "0  773501001                 Москва [3505]  \n",
       "1  997450001                 Москва [3505]  \n",
       "2  710501001       Тульская область [3535]  \n",
       "3  470350001  Ленинградская область [3500]  \n",
       "4  773001001                 Москва [3505]  "
      ]
     },
     "execution_count": 3,
     "metadata": {},
     "output_type": "execute_result"
    }
   ],
   "source": [
    "types = {'h': np.int64,\n",
    "        'i': np.int64,\n",
    "        'j': np.int64}\n",
    "dfs = pd.read_excel(r'data\\orgs-clean.xlsx', dtype=types)\n",
    "dfs.head()"
   ]
  },
  {
   "cell_type": "code",
   "execution_count": 4,
   "metadata": {},
   "outputs": [
    {
     "data": {
      "text/plain": [
       "(11387, 11)"
      ]
     },
     "execution_count": 4,
     "metadata": {},
     "output_type": "execute_result"
    }
   ],
   "source": [
    "dfs.shape"
   ]
  },
  {
   "cell_type": "code",
   "execution_count": 162,
   "metadata": {},
   "outputs": [],
   "source": [
    "tass_set = set()\n",
    "maximum = 0\n",
    "arr = []\n",
    "for val in dfs['Вид деятельности, дополнительный ТАСС']:\n",
    "    if type(val) == float:\n",
    "        tass_set.add('-1')\n",
    "        continue\n",
    "    tass = val.split(' / ')\n",
    "    if len(tass) > maximum:\n",
    "        maximum = len(tass)\n",
    "    arr.append(len(tass))\n",
    "    for t in tass:\n",
    "        tass_set.add(t.strip())\n",
    "for val in dfs['Вид деятельности, основной ТАСС']:\n",
    "    if type(val) == float:\n",
    "        tass_set.add('-1')\n",
    "        continue\n",
    "    tass_set.add(val.strip())"
   ]
  },
  {
   "cell_type": "code",
   "execution_count": 160,
   "metadata": {},
   "outputs": [],
   "source": [
    "okved_set = set()\n",
    "maximum = 0\n",
    "arr = []\n",
    "for val in dfs['ОКВЭД2']:\n",
    "    if type(val) == float:\n",
    "        okved_set.add(\"-1\")\n",
    "        continue\n",
    "    okved = val.split(' / ')\n",
    "    if len(okved) > maximum:\n",
    "        maximum = len(okved)\n",
    "    arr.append(len(okved))\n",
    "    for t in okved:\n",
    "        okved_set.add(t.strip())"
   ]
  },
  {
   "cell_type": "code",
   "execution_count": 163,
   "metadata": {},
   "outputs": [],
   "source": [
    "attr_set = set()\n",
    "maximum = 0\n",
    "arr = []\n",
    "for val in dfs['Атрибуты предприятия']:\n",
    "    if type(val) == float:\n",
    "        attr_set.add('-1')\n",
    "        continue\n",
    "    attr = val.split(' / ')\n",
    "    if len(attr) > maximum:\n",
    "        maximum = len(attr)\n",
    "    arr.append(len(attr))\n",
    "    for t in attr:\n",
    "        attr_set.add(t.strip())"
   ]
  },
  {
   "cell_type": "code",
   "execution_count": 164,
   "metadata": {},
   "outputs": [],
   "source": [
    "otrasl_set = set()\n",
    "maximum = 0\n",
    "arr = []\n",
    "for val in dfs['Отрасль']:\n",
    "    if type(val) == float:\n",
    "        otrasl_set.add('-1')\n",
    "        continue\n",
    "    otrasl = val.split(' / ')\n",
    "    if len(otrasl) > maximum:\n",
    "        maximum = len(otrasl)\n",
    "    arr.append(len(otrasl))\n",
    "    for t in otrasl:\n",
    "        otrasl_set.add(t.strip())"
   ]
  },
  {
   "cell_type": "code",
   "execution_count": 148,
   "metadata": {},
   "outputs": [
    {
     "data": {
      "text/plain": [
       "60"
      ]
     },
     "execution_count": 148,
     "metadata": {},
     "output_type": "execute_result"
    }
   ],
   "source": [
    "len(list(otrasl_set))"
   ]
  },
  {
   "cell_type": "code",
   "execution_count": 149,
   "metadata": {},
   "outputs": [
    {
     "data": {
      "text/plain": [
       "9"
      ]
     },
     "execution_count": 149,
     "metadata": {},
     "output_type": "execute_result"
    }
   ],
   "source": [
    "len(list(attr_set))"
   ]
  },
  {
   "cell_type": "code",
   "execution_count": 150,
   "metadata": {},
   "outputs": [
    {
     "data": {
      "text/plain": [
       "909"
      ]
     },
     "execution_count": 150,
     "metadata": {},
     "output_type": "execute_result"
    }
   ],
   "source": [
    "len(list(okved_set))"
   ]
  },
  {
   "cell_type": "code",
   "execution_count": 151,
   "metadata": {},
   "outputs": [
    {
     "data": {
      "text/plain": [
       "2141"
      ]
     },
     "execution_count": 151,
     "metadata": {},
     "output_type": "execute_result"
    }
   ],
   "source": [
    "len(list(tass_set))"
   ]
  },
  {
   "cell_type": "code",
   "execution_count": 14,
   "metadata": {},
   "outputs": [],
   "source": [
    "inns = set(dfs['ИНН'])"
   ]
  },
  {
   "cell_type": "code",
   "execution_count": 15,
   "metadata": {},
   "outputs": [],
   "source": [
    "def load_json(path):\n",
    "    DUMPS = []\n",
    "    with open(path, 'r', encoding=\"utf8\") as f:\n",
    "        for data in f:\n",
    "            dump = json.loads(data)\n",
    "            inn_correct = False\n",
    "            inn_correct = (len(dump['receiver'][0]['inn']) > 0 and np.int64(dump['receiver'][0]['inn']) in inns)\n",
    "            if (len(dump['plans']) + len(dump['plansSubject']) + len(dump['addagreement'])) != 0 and inn_correct: \n",
    "                DUMPS.append(dump)\n",
    "    return DUMPS"
   ]
  },
  {
   "cell_type": "code",
   "execution_count": 19,
   "metadata": {},
   "outputs": [],
   "source": [
    "D2 = []\n",
    "for path in os.listdir(r'data\\dumps'):\n",
    "    p = os.path.join(r'data\\dumps', path)\n",
    "    D2 += load_json(p)"
   ]
  },
  {
   "cell_type": "code",
   "execution_count": 20,
   "metadata": {},
   "outputs": [
    {
     "data": {
      "text/plain": [
       "14198"
      ]
     },
     "execution_count": 20,
     "metadata": {},
     "output_type": "execute_result"
    }
   ],
   "source": [
    "len(D2)"
   ]
  },
  {
   "cell_type": "code",
   "execution_count": 21,
   "metadata": {},
   "outputs": [
    {
     "data": {
      "text/plain": [
       "7151"
      ]
     },
     "execution_count": 21,
     "metadata": {},
     "output_type": "execute_result"
    }
   ],
   "source": [
    "# t4 = []\n",
    "# for dump in D2:\n",
    "#     if dump['grbs']['fullName'] == 'МИНИСТЕРСТВО ПРОМЫШЛЕННОСТИ И ТОРГОВЛИ РОССИЙСКОЙ ФЕДЕРАЦИИ':\n",
    "#         t4.append(dump)\n",
    "# len(t4)"
   ]
  },
  {
   "cell_type": "code",
   "execution_count": 97,
   "metadata": {},
   "outputs": [],
   "source": [
    "columns = ['KBK'] + list(dfs.columns)\n",
    "new_df = pd.DataFrame(columns=columns)\n",
    "for dump in D2:\n",
    "    if len(dump['plans'])  > 0:\n",
    "        kbk = dump['plans'][0]['kbk']\n",
    "    elif len(dump['plansSubject'])  > 0:\n",
    "        kbk = dump['plansSubject'][0]['kbk']\n",
    "    else:\n",
    "        kbk = dump['addagreement'][0]['plantranssub'][0]['kbk']\n",
    "        \n",
    "    inn = np.int64(dump['receiver'][0]['inn'])\n",
    "    data = dfs.loc[dfs['ИНН']==inn]\n",
    "    data = [kbk] + list(data.iloc[0])\n",
    "    \n",
    "    df2 = pd.Series(data, index=columns)\n",
    "\n",
    "    new_df = new_df.append(df2, ignore_index=True)"
   ]
  },
  {
   "cell_type": "code",
   "execution_count": 125,
   "metadata": {},
   "outputs": [
    {
     "name": "stdout",
     "output_type": "stream",
     "text": [
      "(14198, 12)\n"
     ]
    },
    {
     "data": {
      "text/html": [
       "<div>\n",
       "<style scoped>\n",
       "    .dataframe tbody tr th:only-of-type {\n",
       "        vertical-align: middle;\n",
       "    }\n",
       "\n",
       "    .dataframe tbody tr th {\n",
       "        vertical-align: top;\n",
       "    }\n",
       "\n",
       "    .dataframe thead th {\n",
       "        text-align: right;\n",
       "    }\n",
       "</style>\n",
       "<table border=\"1\" class=\"dataframe\">\n",
       "  <thead>\n",
       "    <tr style=\"text-align: right;\">\n",
       "      <th></th>\n",
       "      <th>KBK</th>\n",
       "      <th>ОКВЭД2</th>\n",
       "      <th>Вид деятельности, основной ТАСС</th>\n",
       "      <th>Вид деятельности, дополнительный ТАСС</th>\n",
       "      <th>Организационно правовая форма</th>\n",
       "      <th>Тип компании</th>\n",
       "      <th>Атрибуты предприятия</th>\n",
       "      <th>Отрасль</th>\n",
       "      <th>ОГРН</th>\n",
       "      <th>ИНН</th>\n",
       "      <th>КПП</th>\n",
       "      <th>Регион</th>\n",
       "    </tr>\n",
       "  </thead>\n",
       "  <tbody>\n",
       "    <tr>\n",
       "      <th>0</th>\n",
       "      <td>02004111950168580812</td>\n",
       "      <td>NaN</td>\n",
       "      <td>Торговля оптовая производственным электротехни...</td>\n",
       "      <td>Производство прочих химических продуктов, не в...</td>\n",
       "      <td>НЕПУБЛИЧНЫЕ АКЦИОНЕРНЫЕ ОБЩЕСТВА [7026704]</td>\n",
       "      <td>Организация [7026691]</td>\n",
       "      <td>NaN</td>\n",
       "      <td>Радиоэлектронная промышленность [258]</td>\n",
       "      <td>1127847272629</td>\n",
       "      <td>7.814537e+09</td>\n",
       "      <td>NaN</td>\n",
       "      <td>Санкт-Петербург [3522]</td>\n",
       "    </tr>\n",
       "    <tr>\n",
       "      <th>1</th>\n",
       "      <td>02004121840168844452</td>\n",
       "      <td>Производство оружия и боеприпасов [27574]</td>\n",
       "      <td>Строительство кораблей, судов и плавучих конст...</td>\n",
       "      <td>Производство оружия и боеприпасов [27575] / Пр...</td>\n",
       "      <td>НЕПУБЛИЧНЫЕ АКЦИОНЕРНЫЕ ОБЩЕСТВА [7026704]</td>\n",
       "      <td>Организация [7026691]</td>\n",
       "      <td>Организация ОПК [8780665] / Системообразующее ...</td>\n",
       "      <td>Судостроительная промышленность [262]</td>\n",
       "      <td>1079847085966</td>\n",
       "      <td>7.838395e+09</td>\n",
       "      <td>783801001</td>\n",
       "      <td>Санкт-Петербург [3522]</td>\n",
       "    </tr>\n",
       "    <tr>\n",
       "      <th>2</th>\n",
       "      <td>73004122140062870451</td>\n",
       "      <td>Научные исследования и разработки в области ес...</td>\n",
       "      <td>Научные исследования и разработки в области ес...</td>\n",
       "      <td>Производство автоматических космических аппара...</td>\n",
       "      <td>НЕПУБЛИЧНЫЕ АКЦИОНЕРНЫЕ ОБЩЕСТВА [7026704]</td>\n",
       "      <td>Организация [7026691]</td>\n",
       "      <td>Системообразующее предприятие [8690579] / Орга...</td>\n",
       "      <td>Транспортное машиностроение [264]</td>\n",
       "      <td>1082452000290</td>\n",
       "      <td>2.452035e+09</td>\n",
       "      <td>245201001</td>\n",
       "      <td>Красноярский край [3496]</td>\n",
       "    </tr>\n",
       "    <tr>\n",
       "      <th>3</th>\n",
       "      <td>02006051610166750811</td>\n",
       "      <td>Производство автотранспортных средств [27850] ...</td>\n",
       "      <td>Производство автотранспортных средств [27850]</td>\n",
       "      <td>Производство двигателей и турбин, кроме авиаци...</td>\n",
       "      <td>ОБЩЕСТВА С ОГРАНИЧЕННОЙ ОТВЕТСТВЕННОСТЬЮ [7026...</td>\n",
       "      <td>Организация [7026691]</td>\n",
       "      <td>NaN</td>\n",
       "      <td>Автомобильная промышленность [246]</td>\n",
       "      <td>1023900987626</td>\n",
       "      <td>3.906093e+09</td>\n",
       "      <td>NaN</td>\n",
       "      <td>Калининградская область [3485]</td>\n",
       "    </tr>\n",
       "    <tr>\n",
       "      <th>4</th>\n",
       "      <td>02004121616713810242</td>\n",
       "      <td>Производство автотранспортных средств [27850]</td>\n",
       "      <td>Производство автотранспортных средств [27850]</td>\n",
       "      <td>Торговля оптовая легковыми автомобилями и легк...</td>\n",
       "      <td>НЕПУБЛИЧНЫЕ АКЦИОНЕРНЫЕ ОБЩЕСТВА [7026704]</td>\n",
       "      <td>Организация [7026691]</td>\n",
       "      <td>Системообразующее предприятие [8690579]</td>\n",
       "      <td>Автомобильная промышленность [246]</td>\n",
       "      <td>1027739178202</td>\n",
       "      <td>7.709260e+09</td>\n",
       "      <td>772301001</td>\n",
       "      <td>Москва [3505]</td>\n",
       "    </tr>\n",
       "  </tbody>\n",
       "</table>\n",
       "</div>"
      ],
      "text/plain": [
       "                    KBK                                             ОКВЭД2  \\\n",
       "0  02004111950168580812                                                NaN   \n",
       "1  02004121840168844452          Производство оружия и боеприпасов [27574]   \n",
       "2  73004122140062870451  Научные исследования и разработки в области ес...   \n",
       "3  02006051610166750811  Производство автотранспортных средств [27850] ...   \n",
       "4  02004121616713810242      Производство автотранспортных средств [27850]   \n",
       "\n",
       "                     Вид деятельности, основной ТАСС  \\\n",
       "0  Торговля оптовая производственным электротехни...   \n",
       "1  Строительство кораблей, судов и плавучих конст...   \n",
       "2  Научные исследования и разработки в области ес...   \n",
       "3      Производство автотранспортных средств [27850]   \n",
       "4      Производство автотранспортных средств [27850]   \n",
       "\n",
       "               Вид деятельности, дополнительный ТАСС  \\\n",
       "0  Производство прочих химических продуктов, не в...   \n",
       "1  Производство оружия и боеприпасов [27575] / Пр...   \n",
       "2  Производство автоматических космических аппара...   \n",
       "3  Производство двигателей и турбин, кроме авиаци...   \n",
       "4  Торговля оптовая легковыми автомобилями и легк...   \n",
       "\n",
       "                       Организационно правовая форма           Тип компании  \\\n",
       "0         НЕПУБЛИЧНЫЕ АКЦИОНЕРНЫЕ ОБЩЕСТВА [7026704]  Организация [7026691]   \n",
       "1         НЕПУБЛИЧНЫЕ АКЦИОНЕРНЫЕ ОБЩЕСТВА [7026704]  Организация [7026691]   \n",
       "2         НЕПУБЛИЧНЫЕ АКЦИОНЕРНЫЕ ОБЩЕСТВА [7026704]  Организация [7026691]   \n",
       "3  ОБЩЕСТВА С ОГРАНИЧЕННОЙ ОТВЕТСТВЕННОСТЬЮ [7026...  Организация [7026691]   \n",
       "4         НЕПУБЛИЧНЫЕ АКЦИОНЕРНЫЕ ОБЩЕСТВА [7026704]  Организация [7026691]   \n",
       "\n",
       "                                Атрибуты предприятия  \\\n",
       "0                                                NaN   \n",
       "1  Организация ОПК [8780665] / Системообразующее ...   \n",
       "2  Системообразующее предприятие [8690579] / Орга...   \n",
       "3                                                NaN   \n",
       "4            Системообразующее предприятие [8690579]   \n",
       "\n",
       "                                 Отрасль           ОГРН           ИНН  \\\n",
       "0  Радиоэлектронная промышленность [258]  1127847272629  7.814537e+09   \n",
       "1  Судостроительная промышленность [262]  1079847085966  7.838395e+09   \n",
       "2      Транспортное машиностроение [264]  1082452000290  2.452035e+09   \n",
       "3     Автомобильная промышленность [246]  1023900987626  3.906093e+09   \n",
       "4     Автомобильная промышленность [246]  1027739178202  7.709260e+09   \n",
       "\n",
       "         КПП                          Регион  \n",
       "0        NaN          Санкт-Петербург [3522]  \n",
       "1  783801001          Санкт-Петербург [3522]  \n",
       "2  245201001        Красноярский край [3496]  \n",
       "3        NaN  Калининградская область [3485]  \n",
       "4  772301001                   Москва [3505]  "
      ]
     },
     "execution_count": 125,
     "metadata": {},
     "output_type": "execute_result"
    }
   ],
   "source": [
    "print(new_df.shape)\n",
    "new_df.head()"
   ]
  },
  {
   "cell_type": "code",
   "execution_count": 139,
   "metadata": {},
   "outputs": [],
   "source": [
    "new_df = new_df.drop(columns=[\"Тип компании\"])"
   ]
  },
  {
   "cell_type": "code",
   "execution_count": 140,
   "metadata": {},
   "outputs": [],
   "source": [
    "new_df.to_csv(r'data/data.csv', index=False)"
   ]
  },
  {
   "cell_type": "code",
   "execution_count": 120,
   "metadata": {},
   "outputs": [],
   "source": [
    "kbk = list(new_df['KBK'].unique())\n",
    "kbk_to_index = {key: value for key, value in enumerate(kbk)}\n",
    "with open(r'kbk.json', 'w') as f:\n",
    "    json.dump(kbk_to_index, f)"
   ]
  },
  {
   "cell_type": "code",
   "execution_count": 165,
   "metadata": {},
   "outputs": [],
   "source": [
    "acting_to_index = {key+1: value for key, value in enumerate(tass_set)}\n",
    "with open(r'acting.json', 'w') as f:\n",
    "    json.dump(acting_to_index, f)"
   ]
  },
  {
   "cell_type": "code",
   "execution_count": 161,
   "metadata": {},
   "outputs": [],
   "source": [
    "ocved_to_index = {key+1: value for key, value in enumerate(okved_set)}\n",
    "with open(r'ocved.json', 'w') as f:\n",
    "    json.dump(ocved_to_index, f)"
   ]
  },
  {
   "cell_type": "code",
   "execution_count": 166,
   "metadata": {},
   "outputs": [],
   "source": [
    "attr_to_index = {key+1: value for key, value in enumerate(attr_set)}\n",
    "with open(r'attr.json', 'w') as f:\n",
    "    json.dump(attr_to_index, f)"
   ]
  },
  {
   "cell_type": "code",
   "execution_count": 167,
   "metadata": {},
   "outputs": [],
   "source": [
    "otrasl_to_index = {key+1: value for key, value in enumerate(otrasl_set)}\n",
    "with open(r'otrasl.json', 'w') as f:\n",
    "    json.dump(otrasl_to_index, f)"
   ]
  },
  {
   "cell_type": "code",
   "execution_count": 168,
   "metadata": {},
   "outputs": [],
   "source": [
    "forma_set = list(new_df['Организационно правовая форма'].unique())\n",
    "forma_to_index = {key: value if type(value) != float else '-1' for key, value in enumerate(forma_set)}\n",
    "with open(r'forma.json', 'w') as f:\n",
    "    json.dump(forma_to_index, f)"
   ]
  },
  {
   "cell_type": "code",
   "execution_count": 169,
   "metadata": {},
   "outputs": [],
   "source": [
    "region_set = list(new_df['Регион'].unique())\n",
    "region_to_index = {key: value if type(value) != float else '-1' for key, value in enumerate(region_set)}\n",
    "with open(r'region.json', 'w') as f:\n",
    "    json.dump(region_to_index, f)"
   ]
  },
  {
   "cell_type": "code",
   "execution_count": null,
   "metadata": {},
   "outputs": [],
   "source": []
  }
 ],
 "metadata": {
  "kernelspec": {
   "display_name": "gisp",
   "language": "python",
   "name": "gisp"
  },
  "language_info": {
   "codemirror_mode": {
    "name": "ipython",
    "version": 3
   },
   "file_extension": ".py",
   "mimetype": "text/x-python",
   "name": "python",
   "nbconvert_exporter": "python",
   "pygments_lexer": "ipython3",
   "version": "3.7.9"
  }
 },
 "nbformat": 4,
 "nbformat_minor": 4
}
