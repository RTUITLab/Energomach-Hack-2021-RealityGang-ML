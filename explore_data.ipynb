{
 "cells": [
  {
   "cell_type": "code",
   "execution_count": 61,
   "metadata": {},
   "outputs": [],
   "source": [
    "import pandas as pd\n",
    "import numpy as np\n",
    "import matplotlib.pyplot as plt\n",
    "import json\n",
    "import os\n",
    "import statistics\n",
    "%matplotlib inline"
   ]
  },
  {
   "cell_type": "code",
   "execution_count": 2,
   "metadata": {},
   "outputs": [],
   "source": [
    "PATH_TO_SUBSIDIES = r'data\\Данные Меры поддержки на сайте ГИСП.csv'\n",
    "PATH_TO_ALLOCATORS = r'data\\Реестр субсидий\\allocators.json'\n",
    "PATH_TO_RECIEVERS = r'data\\Реестр субсидий\\receivers.json'\n",
    "\n",
    "ENCODING = 'cp1251'"
   ]
  },
  {
   "cell_type": "code",
   "execution_count": 17,
   "metadata": {},
   "outputs": [
    {
     "data": {
      "text/html": [
       "<div>\n",
       "<style scoped>\n",
       "    .dataframe tbody tr th:only-of-type {\n",
       "        vertical-align: middle;\n",
       "    }\n",
       "\n",
       "    .dataframe tbody tr th {\n",
       "        vertical-align: top;\n",
       "    }\n",
       "\n",
       "    .dataframe thead th {\n",
       "        text-align: right;\n",
       "    }\n",
       "</style>\n",
       "<table border=\"1\" class=\"dataframe\">\n",
       "  <thead>\n",
       "    <tr style=\"text-align: right;\">\n",
       "      <th></th>\n",
       "      <th>\"ID\"</th>\n",
       "      <th>\"URL\"</th>\n",
       "      <th>\"SMALL_NAME\"</th>\n",
       "      <th>\"FULL_NAME\"</th>\n",
       "      <th>\"NUMBER_NPA\"</th>\n",
       "      <th>\"DATE_NPA\"</th>\n",
       "      <th>\"NPA_NAME\"</th>\n",
       "      <th>\"DESCRIPTION\"</th>\n",
       "      <th>\"PURPOSE\"</th>\n",
       "      <th>\"OBJECTIVE\"</th>\n",
       "      <th>...</th>\n",
       "      <th>\"REQ_ZAYAVITEL\"</th>\n",
       "      <th>\"REQUEST_PROJECT\"</th>\n",
       "      <th>\"IS_SOFINANCE\"</th>\n",
       "      <th>\"DOLYA_ISOFINANCE\"</th>\n",
       "      <th>\"BUDGET_PROJECT\"</th>\n",
       "      <th>\"POKAZATEL_RESULT\"</th>\n",
       "      <th>\"TERRITORIAL_LEVEL\"</th>\n",
       "      <th>\"REGION_ID\"</th>\n",
       "      <th>\"RESPONS_STRUCTURE\"</th>\n",
       "      <th>\"ORG_ID\"</th>\n",
       "    </tr>\n",
       "  </thead>\n",
       "  <tbody>\n",
       "    <tr>\n",
       "      <th>0</th>\n",
       "      <td>12447263</td>\n",
       "      <td>https://gisp.gov.ru/support-measures/list/1244...</td>\n",
       "      <td>Субсидия на возмещение части затрат субъектов ...</td>\n",
       "      <td>Субсидия на возмещение части затрат субъектов ...</td>\n",
       "      <td>№ 267-П</td>\n",
       "      <td>23.07.2018</td>\n",
       "      <td>Постановление Правительства РК от 23.07.2018 N...</td>\n",
       "      <td>При возмещении части затрат субъектов малого и...</td>\n",
       "      <td>NaN</td>\n",
       "      <td>Государственная поддержка субъектов малого и с...</td>\n",
       "      <td>...</td>\n",
       "      <td>На дату подачи документов для участия в конкур...</td>\n",
       "      <td>NaN</td>\n",
       "      <td>False</td>\n",
       "      <td>NaN</td>\n",
       "      <td>NaN</td>\n",
       "      <td>NaN</td>\n",
       "      <td>Региональный</td>\n",
       "      <td>Республика Карелия</td>\n",
       "      <td>РОИВ</td>\n",
       "      <td>NaN</td>\n",
       "    </tr>\n",
       "    <tr>\n",
       "      <th>1</th>\n",
       "      <td>12447262</td>\n",
       "      <td>https://gisp.gov.ru/support-measures/list/1244...</td>\n",
       "      <td>Субсидия на возмещение части затрат субъектов ...</td>\n",
       "      <td>Субсидия на возмещение части затрат субъектов ...</td>\n",
       "      <td>№ 267-П</td>\n",
       "      <td>23.07.2018</td>\n",
       "      <td>Постановление Правительства РК от 23.07.2018 N...</td>\n",
       "      <td>При возмещении части затрат субъектов малого и...</td>\n",
       "      <td>NaN</td>\n",
       "      <td>Государственная поддержка субъектов малого и с...</td>\n",
       "      <td>...</td>\n",
       "      <td>На дату подачи документов для участия в конкур...</td>\n",
       "      <td>NaN</td>\n",
       "      <td>False</td>\n",
       "      <td>NaN</td>\n",
       "      <td>NaN</td>\n",
       "      <td>NaN</td>\n",
       "      <td>Региональный</td>\n",
       "      <td>Республика Карелия</td>\n",
       "      <td>РОИВ</td>\n",
       "      <td>NaN</td>\n",
       "    </tr>\n",
       "    <tr>\n",
       "      <th>2</th>\n",
       "      <td>12447261</td>\n",
       "      <td>https://gisp.gov.ru/support-measures/list/1244...</td>\n",
       "      <td>Субсидия на возмещение части затрат субъектов ...</td>\n",
       "      <td>Субсидия на возмещение части затрат субъектов ...</td>\n",
       "      <td>№ 267-П</td>\n",
       "      <td>23.07.2018</td>\n",
       "      <td>Постановление Правительства РК от 23.07.2018 N...</td>\n",
       "      <td>При возмещении части затрат субъектов малого и...</td>\n",
       "      <td>NaN</td>\n",
       "      <td>Государственная поддержка субъектов малого и с...</td>\n",
       "      <td>...</td>\n",
       "      <td>На дату подачи документов для участия в конкур...</td>\n",
       "      <td>NaN</td>\n",
       "      <td>False</td>\n",
       "      <td>NaN</td>\n",
       "      <td>NaN</td>\n",
       "      <td>NaN</td>\n",
       "      <td>Региональный</td>\n",
       "      <td>Республика Карелия</td>\n",
       "      <td>РОИВ</td>\n",
       "      <td>NaN</td>\n",
       "    </tr>\n",
       "    <tr>\n",
       "      <th>3</th>\n",
       "      <td>12447260</td>\n",
       "      <td>https://gisp.gov.ru/support-measures/list/1244...</td>\n",
       "      <td>Субсидия на компенсацию части затрат субъектов...</td>\n",
       "      <td>Субсидия на компенсацию части затрат субъектов...</td>\n",
       "      <td>№ 267-П</td>\n",
       "      <td>23.07.2018</td>\n",
       "      <td>Постановление Правительства РК от 23.07.2018 N...</td>\n",
       "      <td>При компенсации части затрат субъектов малого ...</td>\n",
       "      <td>NaN</td>\n",
       "      <td>Государственная поддержка субъектов малого и с...</td>\n",
       "      <td>...</td>\n",
       "      <td>На дату подачи документов для участия в конкур...</td>\n",
       "      <td>NaN</td>\n",
       "      <td>False</td>\n",
       "      <td>NaN</td>\n",
       "      <td>NaN</td>\n",
       "      <td>NaN</td>\n",
       "      <td>Региональный</td>\n",
       "      <td>Республика Карелия</td>\n",
       "      <td>РОИВ</td>\n",
       "      <td>NaN</td>\n",
       "    </tr>\n",
       "    <tr>\n",
       "      <th>4</th>\n",
       "      <td>12447259</td>\n",
       "      <td>https://gisp.gov.ru/support-measures/list/1244...</td>\n",
       "      <td>Субсидия на компенсацию части затрат субъектов...</td>\n",
       "      <td>Субсидия на компенсацию части затрат субъектов...</td>\n",
       "      <td>№ 267-П</td>\n",
       "      <td>23.07.2018</td>\n",
       "      <td>Постановление Правительства РК от 23.07.2018 N...</td>\n",
       "      <td>При компенсации части затрат субъектов малого ...</td>\n",
       "      <td>NaN</td>\n",
       "      <td>Государственная поддержка субъектов малого и с...</td>\n",
       "      <td>...</td>\n",
       "      <td>На дату подачи документов для участия в конкур...</td>\n",
       "      <td>NaN</td>\n",
       "      <td>False</td>\n",
       "      <td>NaN</td>\n",
       "      <td>NaN</td>\n",
       "      <td>NaN</td>\n",
       "      <td>Региональный</td>\n",
       "      <td>Республика Карелия</td>\n",
       "      <td>РОИВ</td>\n",
       "      <td>NaN</td>\n",
       "    </tr>\n",
       "  </tbody>\n",
       "</table>\n",
       "<p>5 rows × 38 columns</p>\n",
       "</div>"
      ],
      "text/plain": [
       "       \"ID\"                                              \"URL\"  \\\n",
       "0  12447263  https://gisp.gov.ru/support-measures/list/1244...   \n",
       "1  12447262  https://gisp.gov.ru/support-measures/list/1244...   \n",
       "2  12447261  https://gisp.gov.ru/support-measures/list/1244...   \n",
       "3  12447260  https://gisp.gov.ru/support-measures/list/1244...   \n",
       "4  12447259  https://gisp.gov.ru/support-measures/list/1244...   \n",
       "\n",
       "                                        \"SMALL_NAME\"  \\\n",
       "0  Субсидия на возмещение части затрат субъектов ...   \n",
       "1  Субсидия на возмещение части затрат субъектов ...   \n",
       "2  Субсидия на возмещение части затрат субъектов ...   \n",
       "3  Субсидия на компенсацию части затрат субъектов...   \n",
       "4  Субсидия на компенсацию части затрат субъектов...   \n",
       "\n",
       "                                         \"FULL_NAME\" \"NUMBER_NPA\"  \"DATE_NPA\"  \\\n",
       "0  Субсидия на возмещение части затрат субъектов ...    № 267-П    23.07.2018   \n",
       "1  Субсидия на возмещение части затрат субъектов ...    № 267-П    23.07.2018   \n",
       "2  Субсидия на возмещение части затрат субъектов ...    № 267-П    23.07.2018   \n",
       "3  Субсидия на компенсацию части затрат субъектов...    № 267-П    23.07.2018   \n",
       "4  Субсидия на компенсацию части затрат субъектов...    № 267-П    23.07.2018   \n",
       "\n",
       "                                          \"NPA_NAME\"  \\\n",
       "0  Постановление Правительства РК от 23.07.2018 N...   \n",
       "1  Постановление Правительства РК от 23.07.2018 N...   \n",
       "2  Постановление Правительства РК от 23.07.2018 N...   \n",
       "3  Постановление Правительства РК от 23.07.2018 N...   \n",
       "4  Постановление Правительства РК от 23.07.2018 N...   \n",
       "\n",
       "                                       \"DESCRIPTION\" \"PURPOSE\"  \\\n",
       "0  При возмещении части затрат субъектов малого и...       NaN   \n",
       "1  При возмещении части затрат субъектов малого и...       NaN   \n",
       "2  При возмещении части затрат субъектов малого и...       NaN   \n",
       "3  При компенсации части затрат субъектов малого ...       NaN   \n",
       "4  При компенсации части затрат субъектов малого ...       NaN   \n",
       "\n",
       "                                         \"OBJECTIVE\"  ...  \\\n",
       "0  Государственная поддержка субъектов малого и с...  ...   \n",
       "1  Государственная поддержка субъектов малого и с...  ...   \n",
       "2  Государственная поддержка субъектов малого и с...  ...   \n",
       "3  Государственная поддержка субъектов малого и с...  ...   \n",
       "4  Государственная поддержка субъектов малого и с...  ...   \n",
       "\n",
       "                                     \"REQ_ZAYAVITEL\" \"REQUEST_PROJECT\"  \\\n",
       "0  На дату подачи документов для участия в конкур...               NaN   \n",
       "1  На дату подачи документов для участия в конкур...               NaN   \n",
       "2  На дату подачи документов для участия в конкур...               NaN   \n",
       "3  На дату подачи документов для участия в конкур...               NaN   \n",
       "4  На дату подачи документов для участия в конкур...               NaN   \n",
       "\n",
       "  \"IS_SOFINANCE\" \"DOLYA_ISOFINANCE\" \"BUDGET_PROJECT\"  \"POKAZATEL_RESULT\"  \\\n",
       "0          False                NaN              NaN                 NaN   \n",
       "1          False                NaN              NaN                 NaN   \n",
       "2          False                NaN              NaN                 NaN   \n",
       "3          False                NaN              NaN                 NaN   \n",
       "4          False                NaN              NaN                 NaN   \n",
       "\n",
       "  \"TERRITORIAL_LEVEL\"         \"REGION_ID\" \"RESPONS_STRUCTURE\" \"ORG_ID\"  \n",
       "0        Региональный  Республика Карелия                РОИВ      NaN  \n",
       "1        Региональный  Республика Карелия                РОИВ      NaN  \n",
       "2        Региональный  Республика Карелия                РОИВ      NaN  \n",
       "3        Региональный  Республика Карелия                РОИВ      NaN  \n",
       "4        Региональный  Республика Карелия                РОИВ      NaN  \n",
       "\n",
       "[5 rows x 38 columns]"
      ]
     },
     "execution_count": 17,
     "metadata": {},
     "output_type": "execute_result"
    }
   ],
   "source": [
    "subsidies = pd.read_csv(PATH_TO_SUBSIDIES, sep=';', encoding=ENCODING)\n",
    "subsidies.head()"
   ]
  },
  {
   "cell_type": "code",
   "execution_count": 3,
   "metadata": {},
   "outputs": [
    {
     "data": {
      "text/html": [
       "<div>\n",
       "<style scoped>\n",
       "    .dataframe tbody tr th:only-of-type {\n",
       "        vertical-align: middle;\n",
       "    }\n",
       "\n",
       "    .dataframe tbody tr th {\n",
       "        vertical-align: top;\n",
       "    }\n",
       "\n",
       "    .dataframe thead th {\n",
       "        text-align: right;\n",
       "    }\n",
       "</style>\n",
       "<table border=\"1\" class=\"dataframe\">\n",
       "  <thead>\n",
       "    <tr style=\"text-align: right;\">\n",
       "      <th></th>\n",
       "      <th>ОКВЭД2</th>\n",
       "      <th>Вид деятельности, основной ТАСС</th>\n",
       "      <th>Вид деятельности, дополнительный ТАСС</th>\n",
       "      <th>Организационно правовая форма</th>\n",
       "      <th>Тип компании</th>\n",
       "      <th>Атрибуты предприятия</th>\n",
       "      <th>Отрасль</th>\n",
       "      <th>ОГРН</th>\n",
       "      <th>ИНН</th>\n",
       "      <th>КПП</th>\n",
       "      <th>Регион</th>\n",
       "    </tr>\n",
       "  </thead>\n",
       "  <tbody>\n",
       "    <tr>\n",
       "      <th>0</th>\n",
       "      <td>Производство элементов электронной аппаратуры ...</td>\n",
       "      <td>Производство элементов электронной аппаратуры ...</td>\n",
       "      <td>Деятельность вспомогательная прочая, связанная...</td>\n",
       "      <td>НЕПУБЛИЧНЫЕ АКЦИОНЕРНЫЕ ОБЩЕСТВА [7026704]</td>\n",
       "      <td>Организация [7026691]</td>\n",
       "      <td>Предприятие, оказывающее существенное влияние ...</td>\n",
       "      <td>Радиоэлектронная промышленность [258]</td>\n",
       "      <td>1027700140930</td>\n",
       "      <td>7.735011e+09</td>\n",
       "      <td>773501001</td>\n",
       "      <td>Москва [3505]</td>\n",
       "    </tr>\n",
       "    <tr>\n",
       "      <th>1</th>\n",
       "      <td>Производство оружия и боеприпасов [27574]</td>\n",
       "      <td>Производство оружия и боеприпасов [27575]</td>\n",
       "      <td>Производство коммуникационного оборудования [2...</td>\n",
       "      <td>АКЦИОНЕРНЫЕ ОБЩЕСТВА [7026719]</td>\n",
       "      <td>Организация [7026691]</td>\n",
       "      <td>Системообразующее предприятие [8690579] / Орга...</td>\n",
       "      <td>Радиоэлектронная промышленность [258]</td>\n",
       "      <td>1027739001993</td>\n",
       "      <td>7.731084e+09</td>\n",
       "      <td>997450001</td>\n",
       "      <td>Москва [3505]</td>\n",
       "    </tr>\n",
       "    <tr>\n",
       "      <th>2</th>\n",
       "      <td>Производство оружия и боеприпасов [27575]</td>\n",
       "      <td>Производство оружия и боеприпасов [27575]</td>\n",
       "      <td>Лесоводство и прочая лесохозяйственная деятель...</td>\n",
       "      <td>НЕПУБЛИЧНЫЕ АКЦИОНЕРНЫЕ ОБЩЕСТВА [7026704]</td>\n",
       "      <td>Организация [7026691]</td>\n",
       "      <td>Организация ОПК [8780665] / Системообразующее ...</td>\n",
       "      <td>Промышленность боеприпасов и спецхимии [256]</td>\n",
       "      <td>1127154020311</td>\n",
       "      <td>7.105516e+09</td>\n",
       "      <td>710501001</td>\n",
       "      <td>Тульская область [3535]</td>\n",
       "    </tr>\n",
       "    <tr>\n",
       "      <th>3</th>\n",
       "      <td>Производство красителей и пигментов [27354] / ...</td>\n",
       "      <td>Производство оружия и боеприпасов [27575]</td>\n",
       "      <td>Производство красителей и пигментов [27354] / ...</td>\n",
       "      <td>ФЕДЕРАЛЬНЫЕ ГОСУДАРСТВЕННЫЕ УНИТАРНЫЕ ПРЕДПРИЯ...</td>\n",
       "      <td>Организация [7026691]</td>\n",
       "      <td>Одобрено Минпромторгом России [8690599] / Орга...</td>\n",
       "      <td>Промышленность боеприпасов и спецхимии [256]</td>\n",
       "      <td>1034700561895</td>\n",
       "      <td>4.703010e+09</td>\n",
       "      <td>470350001</td>\n",
       "      <td>Ленинградская область [3500]</td>\n",
       "    </tr>\n",
       "    <tr>\n",
       "      <th>4</th>\n",
       "      <td>Производство коммуникационного оборудования [2...</td>\n",
       "      <td>Научные исследования и разработки в области ес...</td>\n",
       "      <td>Производство коммуникационного оборудования [2...</td>\n",
       "      <td>НЕПУБЛИЧНЫЕ АКЦИОНЕРНЫЕ ОБЩЕСТВА [7026704]</td>\n",
       "      <td>Организация [7026691]</td>\n",
       "      <td>Системообразующее предприятие [8690579] / Орга...</td>\n",
       "      <td>Радиоэлектронная промышленность [258]</td>\n",
       "      <td>1037730020844</td>\n",
       "      <td>7.730170e+09</td>\n",
       "      <td>773001001</td>\n",
       "      <td>Москва [3505]</td>\n",
       "    </tr>\n",
       "  </tbody>\n",
       "</table>\n",
       "</div>"
      ],
      "text/plain": [
       "                                              ОКВЭД2  \\\n",
       "0  Производство элементов электронной аппаратуры ...   \n",
       "1          Производство оружия и боеприпасов [27574]   \n",
       "2          Производство оружия и боеприпасов [27575]   \n",
       "3  Производство красителей и пигментов [27354] / ...   \n",
       "4  Производство коммуникационного оборудования [2...   \n",
       "\n",
       "                     Вид деятельности, основной ТАСС  \\\n",
       "0  Производство элементов электронной аппаратуры ...   \n",
       "1          Производство оружия и боеприпасов [27575]   \n",
       "2          Производство оружия и боеприпасов [27575]   \n",
       "3          Производство оружия и боеприпасов [27575]   \n",
       "4  Научные исследования и разработки в области ес...   \n",
       "\n",
       "               Вид деятельности, дополнительный ТАСС  \\\n",
       "0  Деятельность вспомогательная прочая, связанная...   \n",
       "1  Производство коммуникационного оборудования [2...   \n",
       "2  Лесоводство и прочая лесохозяйственная деятель...   \n",
       "3  Производство красителей и пигментов [27354] / ...   \n",
       "4  Производство коммуникационного оборудования [2...   \n",
       "\n",
       "                       Организационно правовая форма           Тип компании  \\\n",
       "0         НЕПУБЛИЧНЫЕ АКЦИОНЕРНЫЕ ОБЩЕСТВА [7026704]  Организация [7026691]   \n",
       "1                     АКЦИОНЕРНЫЕ ОБЩЕСТВА [7026719]  Организация [7026691]   \n",
       "2         НЕПУБЛИЧНЫЕ АКЦИОНЕРНЫЕ ОБЩЕСТВА [7026704]  Организация [7026691]   \n",
       "3  ФЕДЕРАЛЬНЫЕ ГОСУДАРСТВЕННЫЕ УНИТАРНЫЕ ПРЕДПРИЯ...  Организация [7026691]   \n",
       "4         НЕПУБЛИЧНЫЕ АКЦИОНЕРНЫЕ ОБЩЕСТВА [7026704]  Организация [7026691]   \n",
       "\n",
       "                                Атрибуты предприятия  \\\n",
       "0  Предприятие, оказывающее существенное влияние ...   \n",
       "1  Системообразующее предприятие [8690579] / Орга...   \n",
       "2  Организация ОПК [8780665] / Системообразующее ...   \n",
       "3  Одобрено Минпромторгом России [8690599] / Орга...   \n",
       "4  Системообразующее предприятие [8690579] / Орга...   \n",
       "\n",
       "                                        Отрасль           ОГРН           ИНН  \\\n",
       "0         Радиоэлектронная промышленность [258]  1027700140930  7.735011e+09   \n",
       "1         Радиоэлектронная промышленность [258]  1027739001993  7.731084e+09   \n",
       "2  Промышленность боеприпасов и спецхимии [256]  1127154020311  7.105516e+09   \n",
       "3  Промышленность боеприпасов и спецхимии [256]  1034700561895  4.703010e+09   \n",
       "4         Радиоэлектронная промышленность [258]  1037730020844  7.730170e+09   \n",
       "\n",
       "         КПП                        Регион  \n",
       "0  773501001                 Москва [3505]  \n",
       "1  997450001                 Москва [3505]  \n",
       "2  710501001       Тульская область [3535]  \n",
       "3  470350001  Ленинградская область [3500]  \n",
       "4  773001001                 Москва [3505]  "
      ]
     },
     "execution_count": 3,
     "metadata": {},
     "output_type": "execute_result"
    }
   ],
   "source": [
    "types = {'h': np.int64,\n",
    "        'i': np.int64,\n",
    "        'j': np.int64}\n",
    "dfs = pd.read_excel(r'data\\orgs-clean.xlsx', dtype=types)\n",
    "dfs.head()"
   ]
  },
  {
   "cell_type": "code",
   "execution_count": 99,
   "metadata": {},
   "outputs": [
    {
     "data": {
      "text/plain": [
       "(11387, 11)"
      ]
     },
     "execution_count": 99,
     "metadata": {},
     "output_type": "execute_result"
    }
   ],
   "source": [
    "dfs.shape"
   ]
  },
  {
   "cell_type": "code",
   "execution_count": 80,
   "metadata": {},
   "outputs": [
    {
     "data": {
      "image/png": "[encoded data removed]",
      "text/plain": [
       "<Figure size 1440x576 with 1 Axes>"
      ]
     },
     "metadata": {
      "needs_background": "light"
     },
     "output_type": "display_data"
    }
   ],
   "source": [
    "tass_set = set()\n",
    "maximum = 0\n",
    "arr = []\n",
    "for val in dfs['Вид деятельности, дополнительный ТАСС'].dropna():\n",
    "    tass = val.split(' / ')\n",
    "    if len(tass) > maximum:\n",
    "        maximum = len(tass)\n",
    "    arr.append(len(tass))\n",
    "    for t in tass:\n",
    "        tass_set.add(t.strip())\n",
    "for val in dfs['Вид деятельности, основной ТАСС'].dropna():\n",
    "    tass_set.add(val.strip())"
   ]
  },
  {
   "cell_type": "code",
   "execution_count": 83,
   "metadata": {},
   "outputs": [],
   "source": [
    "okved_set = set()\n",
    "maximum = 0\n",
    "arr = []\n",
    "for val in dfs['ОКВЭД2'].dropna():\n",
    "    okved = val.split(' / ')\n",
    "    if len(okved) > maximum:\n",
    "        maximum = len(okved)\n",
    "    arr.append(len(okved))\n",
    "    for t in okved:\n",
    "        okved_set.add(t.strip())"
   ]
  },
  {
   "cell_type": "code",
   "execution_count": 87,
   "metadata": {},
   "outputs": [],
   "source": [
    "attr_set = set()\n",
    "maximum = 0\n",
    "arr = []\n",
    "for val in dfs['Атрибуты предприятия'].dropna():\n",
    "    attr = val.split(' / ')\n",
    "    if len(attr) > maximum:\n",
    "        maximum = len(attr)\n",
    "    arr.append(len(attr))\n",
    "    for t in attr:\n",
    "        attr_set.add(t.strip())"
   ]
  },
  {
   "cell_type": "code",
   "execution_count": 95,
   "metadata": {},
   "outputs": [],
   "source": [
    "otrasl_set = set()\n",
    "maximum = 0\n",
    "arr = []\n",
    "for val in dfs['Отрасль'].dropna():\n",
    "    otrasl = val.split(' / ')\n",
    "    if len(otrasl) > maximum:\n",
    "        maximum = len(otrasl)\n",
    "    arr.append(len(otrasl))\n",
    "    for t in otrasl:\n",
    "        otrasl_set.add(t.strip())"
   ]
  },
  {
   "cell_type": "code",
   "execution_count": 96,
   "metadata": {},
   "outputs": [
    {
     "data": {
      "text/plain": [
       "1"
      ]
     },
     "execution_count": 96,
     "metadata": {},
     "output_type": "execute_result"
    }
   ],
   "source": [
    "statistics.median(arr)"
   ]
  },
  {
   "cell_type": "code",
   "execution_count": 97,
   "metadata": {},
   "outputs": [
    {
     "data": {
      "text/plain": [
       "10"
      ]
     },
     "execution_count": 97,
     "metadata": {},
     "output_type": "execute_result"
    }
   ],
   "source": [
    "maximum"
   ]
  },
  {
   "cell_type": "code",
   "execution_count": 98,
   "metadata": {},
   "outputs": [
    {
     "data": {
      "text/plain": [
       "59"
      ]
     },
     "execution_count": 98,
     "metadata": {},
     "output_type": "execute_result"
    }
   ],
   "source": [
    "len(list(otrasl_set))"
   ]
  },
  {
   "cell_type": "code",
   "execution_count": 90,
   "metadata": {},
   "outputs": [
    {
     "data": {
      "text/plain": [
       "8"
      ]
     },
     "execution_count": 90,
     "metadata": {},
     "output_type": "execute_result"
    }
   ],
   "source": [
    "len(list(attr_set))"
   ]
  },
  {
   "cell_type": "code",
   "execution_count": 85,
   "metadata": {},
   "outputs": [
    {
     "data": {
      "text/plain": [
       "908"
      ]
     },
     "execution_count": 85,
     "metadata": {},
     "output_type": "execute_result"
    }
   ],
   "source": [
    "len(list(okved_set))"
   ]
  },
  {
   "cell_type": "code",
   "execution_count": 82,
   "metadata": {},
   "outputs": [
    {
     "data": {
      "text/plain": [
       "2140"
      ]
     },
     "execution_count": 82,
     "metadata": {},
     "output_type": "execute_result"
    }
   ],
   "source": [
    "len(list(tass_set))"
   ]
  },
  {
   "cell_type": "code",
   "execution_count": 21,
   "metadata": {},
   "outputs": [],
   "source": [
    "ogrns = set(dfs['ОГРН'])\n",
    "inns = set(dfs['ИНН'])\n",
    "kpps = set(dfs['КПП'])"
   ]
  },
  {
   "cell_type": "code",
   "execution_count": 43,
   "metadata": {},
   "outputs": [],
   "source": [
    "def load_json(path):\n",
    "    DUMPS = []\n",
    "    with open(path, 'r', encoding=\"utf8\") as f:\n",
    "        for data in f:\n",
    "            dump = json.loads(data)\n",
    "            inn_correct = False\n",
    "            inn_correct = (len(dump['receiver'][0]['inn']) > 0 and np.int64(dump['receiver'][0]['inn']) in inns)\n",
    "            if (len(dump['plans']) + len(dump['plansSubject']) + len(dump['addagreement'])) != 0 and inn_correct: \n",
    "                DUMPS.append(dump)\n",
    "    return DUMPS"
   ]
  },
  {
   "cell_type": "code",
   "execution_count": 5,
   "metadata": {},
   "outputs": [
    {
     "ename": "NameError",
     "evalue": "name 'D2' is not defined",
     "output_type": "error",
     "traceback": [
      "\u001b[1;31m---------------------------------------------------------------------------\u001b[0m",
      "\u001b[1;31mNameError\u001b[0m                                 Traceback (most recent call last)",
      "\u001b[1;32m<ipython-input-5-d20b78d6b82b>\u001b[0m in \u001b[0;36m<module>\u001b[1;34m\u001b[0m\n\u001b[1;32m----> 1\u001b[1;33m \u001b[1;32mdel\u001b[0m \u001b[0mD2\u001b[0m\u001b[1;33m\u001b[0m\u001b[1;33m\u001b[0m\u001b[0m\n\u001b[0m",
      "\u001b[1;31mNameError\u001b[0m: name 'D2' is not defined"
     ]
    }
   ],
   "source": [
    "del D2"
   ]
  },
  {
   "cell_type": "code",
   "execution_count": 44,
   "metadata": {},
   "outputs": [],
   "source": [
    "D2 = []\n",
    "for path in os.listdir(r'data\\dumps'):\n",
    "    p = os.path.join(r'data\\dumps', path)\n",
    "    D2 += load_json(p)"
   ]
  },
  {
   "cell_type": "code",
   "execution_count": 45,
   "metadata": {},
   "outputs": [
    {
     "data": {
      "text/plain": [
       "14198"
      ]
     },
     "execution_count": 45,
     "metadata": {},
     "output_type": "execute_result"
    }
   ],
   "source": [
    "len(D2)"
   ]
  },
  {
   "cell_type": "code",
   "execution_count": 76,
   "metadata": {},
   "outputs": [],
   "source": [
    "plans_set = set()\n",
    "planssubject_set = set()\n",
    "addagreement_set = set()\n",
    "faip_set = set()\n",
    "targets_set = set()\n",
    "for i in range(len(D2)):\n",
    "    dump = D2[i]\n",
    "    if len(dump['plans']) != 0:\n",
    "        plans_set.add(i)\n",
    "    if len(dump['plansSubject']) != 0:\n",
    "        planssubject_set.add(i)\n",
    "    if len(dump['addagreement']) != 0:\n",
    "        addagreement_set.add(i)\n",
    "    if len(dump['faip']) != 0:\n",
    "        faip_set.add(i)\n",
    "    "
   ]
  },
  {
   "cell_type": "code",
   "execution_count": 77,
   "metadata": {},
   "outputs": [
    {
     "data": {
      "text/plain": [
       "381667"
      ]
     },
     "execution_count": 77,
     "metadata": {},
     "output_type": "execute_result"
    }
   ],
   "source": [
    "KBKS = faip_set.union(plans_set, addagreement_set, planssubject_set)\n",
    "len(KBKS)"
   ]
  },
  {
   "cell_type": "code",
   "execution_count": 80,
   "metadata": {},
   "outputs": [
    {
     "data": {
      "text/plain": [
       "11247"
      ]
     },
     "execution_count": 80,
     "metadata": {},
     "output_type": "execute_result"
    }
   ],
   "source": [
    "t4 = []\n",
    "for i in KBKS:\n",
    "    dump = D2[i]\n",
    "    if dump['grbs']['fullName'] == 'МИНИСТЕРСТВО ПРОМЫШЛЕННОСТИ И ТОРГОВЛИ РОССИЙСКОЙ ФЕДЕРАЦИИ':\n",
    "        t4.append(dump)\n",
    "len(t4)"
   ]
  }
 ],
 "metadata": {
  "kernelspec": {
   "display_name": "Python 3",
   "language": "python",
   "name": "python3"
  },
  "language_info": {
   "codemirror_mode": {
    "name": "ipython",
    "version": 3
   },
   "file_extension": ".py",
   "mimetype": "text/x-python",
   "name": "python",
   "nbconvert_exporter": "python",
   "pygments_lexer": "ipython3",
   "version": "3.8.8"
  }
 },
 "nbformat": 4,
 "nbformat_minor": 4
}
