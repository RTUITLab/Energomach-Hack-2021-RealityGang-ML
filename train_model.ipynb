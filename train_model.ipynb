{
 "cells": [
  {
   "cell_type": "code",
   "execution_count": 1,
   "metadata": {},
   "outputs": [],
   "source": [
    "import pandas as pd\n",
    "import numpy as np\n",
    "import matplotlib.pyplot as plt\n",
    "import json\n",
    "import os\n",
    "import math\n",
    "import tensorflow as tf\n",
    "\n",
    "from sklearn.model_selection import train_test_split\n",
    "from sklearn.ensemble import GradientBoostingClassifier\n",
    "from sklearn.metrics import accuracy_score\n",
    "from sklearn import preprocessing\n",
    "\n",
    "\n",
    "%matplotlib inline"
   ]
  },
  {
   "cell_type": "code",
   "execution_count": 2,
   "metadata": {},
   "outputs": [
    {
     "output_type": "execute_result",
     "data": {
      "text/plain": [
       "'2.4.1'"
      ]
     },
     "metadata": {},
     "execution_count": 2
    }
   ],
   "source": [
    "tf.version.VERSION"
   ]
  },
  {
   "cell_type": "code",
   "execution_count": 3,
   "metadata": {},
   "outputs": [
    {
     "output_type": "execute_result",
     "data": {
      "text/plain": [
       "[PhysicalDevice(name='/physical_device:CPU:0', device_type='CPU'),\n",
       " PhysicalDevice(name='/physical_device:GPU:0', device_type='GPU')]"
      ]
     },
     "metadata": {},
     "execution_count": 3
    }
   ],
   "source": [
    "tf.config.list_physical_devices()"
   ]
  },
  {
   "cell_type": "code",
   "execution_count": 4,
   "metadata": {},
   "outputs": [
    {
     "output_type": "execute_result",
     "data": {
      "text/plain": [
       "                    KBK                                             ОКВЭД2  \\\n",
       "0  02004111950168580812                                                NaN   \n",
       "1  02004121840168844452          Производство оружия и боеприпасов [27574]   \n",
       "2  73004122140062870451  Научные исследования и разработки в области ес...   \n",
       "3  02006051610166750811  Производство автотранспортных средств [27850] ...   \n",
       "4  02004121616713810242      Производство автотранспортных средств [27850]   \n",
       "\n",
       "                     Вид деятельности, основной ТАСС  \\\n",
       "0  Торговля оптовая производственным электротехни...   \n",
       "1  Строительство кораблей, судов и плавучих конст...   \n",
       "2  Научные исследования и разработки в области ес...   \n",
       "3      Производство автотранспортных средств [27850]   \n",
       "4      Производство автотранспортных средств [27850]   \n",
       "\n",
       "               Вид деятельности, дополнительный ТАСС  \\\n",
       "0  Производство прочих химических продуктов, не в...   \n",
       "1  Производство оружия и боеприпасов [27575] / Пр...   \n",
       "2  Производство автоматических космических аппара...   \n",
       "3  Производство двигателей и турбин, кроме авиаци...   \n",
       "4  Торговля оптовая легковыми автомобилями и легк...   \n",
       "\n",
       "                       Организационно правовая форма  \\\n",
       "0         НЕПУБЛИЧНЫЕ АКЦИОНЕРНЫЕ ОБЩЕСТВА [7026704]   \n",
       "1         НЕПУБЛИЧНЫЕ АКЦИОНЕРНЫЕ ОБЩЕСТВА [7026704]   \n",
       "2         НЕПУБЛИЧНЫЕ АКЦИОНЕРНЫЕ ОБЩЕСТВА [7026704]   \n",
       "3  ОБЩЕСТВА С ОГРАНИЧЕННОЙ ОТВЕТСТВЕННОСТЬЮ [7026...   \n",
       "4         НЕПУБЛИЧНЫЕ АКЦИОНЕРНЫЕ ОБЩЕСТВА [7026704]   \n",
       "\n",
       "                                Атрибуты предприятия  \\\n",
       "0                                                NaN   \n",
       "1  Организация ОПК [8780665] / Системообразующее ...   \n",
       "2  Системообразующее предприятие [8690579] / Орга...   \n",
       "3                                                NaN   \n",
       "4            Системообразующее предприятие [8690579]   \n",
       "\n",
       "                                 Отрасль           ОГРН         ИНН  \\\n",
       "0  Радиоэлектронная промышленность [258]  1127847272629  7814536770   \n",
       "1  Судостроительная промышленность [262]  1079847085966  7838395215   \n",
       "2      Транспортное машиностроение [264]  1082452000290  2452034898   \n",
       "3     Автомобильная промышленность [246]  1023900987626  3906092856   \n",
       "4     Автомобильная промышленность [246]  1027739178202  7709259743   \n",
       "\n",
       "           КПП                          Регион  \n",
       "0          NaN          Санкт-Петербург [3522]  \n",
       "1  783801001.0          Санкт-Петербург [3522]  \n",
       "2  245201001.0        Красноярский край [3496]  \n",
       "3          NaN  Калининградская область [3485]  \n",
       "4  772301001.0                   Москва [3505]  "
      ],
      "text/html": "<div>\n<style scoped>\n    .dataframe tbody tr th:only-of-type {\n        vertical-align: middle;\n    }\n\n    .dataframe tbody tr th {\n        vertical-align: top;\n    }\n\n    .dataframe thead th {\n        text-align: right;\n    }\n</style>\n<table border=\"1\" class=\"dataframe\">\n  <thead>\n    <tr style=\"text-align: right;\">\n      <th></th>\n      <th>KBK</th>\n      <th>ОКВЭД2</th>\n      <th>Вид деятельности, основной ТАСС</th>\n      <th>Вид деятельности, дополнительный ТАСС</th>\n      <th>Организационно правовая форма</th>\n      <th>Атрибуты предприятия</th>\n      <th>Отрасль</th>\n      <th>ОГРН</th>\n      <th>ИНН</th>\n      <th>КПП</th>\n      <th>Регион</th>\n    </tr>\n  </thead>\n  <tbody>\n    <tr>\n      <th>0</th>\n      <td>02004111950168580812</td>\n      <td>NaN</td>\n      <td>Торговля оптовая производственным электротехни...</td>\n      <td>Производство прочих химических продуктов, не в...</td>\n      <td>НЕПУБЛИЧНЫЕ АКЦИОНЕРНЫЕ ОБЩЕСТВА [7026704]</td>\n      <td>NaN</td>\n      <td>Радиоэлектронная промышленность [258]</td>\n      <td>1127847272629</td>\n      <td>7814536770</td>\n      <td>NaN</td>\n      <td>Санкт-Петербург [3522]</td>\n    </tr>\n    <tr>\n      <th>1</th>\n      <td>02004121840168844452</td>\n      <td>Производство оружия и боеприпасов [27574]</td>\n      <td>Строительство кораблей, судов и плавучих конст...</td>\n      <td>Производство оружия и боеприпасов [27575] / Пр...</td>\n      <td>НЕПУБЛИЧНЫЕ АКЦИОНЕРНЫЕ ОБЩЕСТВА [7026704]</td>\n      <td>Организация ОПК [8780665] / Системообразующее ...</td>\n      <td>Судостроительная промышленность [262]</td>\n      <td>1079847085966</td>\n      <td>7838395215</td>\n      <td>783801001.0</td>\n      <td>Санкт-Петербург [3522]</td>\n    </tr>\n    <tr>\n      <th>2</th>\n      <td>73004122140062870451</td>\n      <td>Научные исследования и разработки в области ес...</td>\n      <td>Научные исследования и разработки в области ес...</td>\n      <td>Производство автоматических космических аппара...</td>\n      <td>НЕПУБЛИЧНЫЕ АКЦИОНЕРНЫЕ ОБЩЕСТВА [7026704]</td>\n      <td>Системообразующее предприятие [8690579] / Орга...</td>\n      <td>Транспортное машиностроение [264]</td>\n      <td>1082452000290</td>\n      <td>2452034898</td>\n      <td>245201001.0</td>\n      <td>Красноярский край [3496]</td>\n    </tr>\n    <tr>\n      <th>3</th>\n      <td>02006051610166750811</td>\n      <td>Производство автотранспортных средств [27850] ...</td>\n      <td>Производство автотранспортных средств [27850]</td>\n      <td>Производство двигателей и турбин, кроме авиаци...</td>\n      <td>ОБЩЕСТВА С ОГРАНИЧЕННОЙ ОТВЕТСТВЕННОСТЬЮ [7026...</td>\n      <td>NaN</td>\n      <td>Автомобильная промышленность [246]</td>\n      <td>1023900987626</td>\n      <td>3906092856</td>\n      <td>NaN</td>\n      <td>Калининградская область [3485]</td>\n    </tr>\n    <tr>\n      <th>4</th>\n      <td>02004121616713810242</td>\n      <td>Производство автотранспортных средств [27850]</td>\n      <td>Производство автотранспортных средств [27850]</td>\n      <td>Торговля оптовая легковыми автомобилями и легк...</td>\n      <td>НЕПУБЛИЧНЫЕ АКЦИОНЕРНЫЕ ОБЩЕСТВА [7026704]</td>\n      <td>Системообразующее предприятие [8690579]</td>\n      <td>Автомобильная промышленность [246]</td>\n      <td>1027739178202</td>\n      <td>7709259743</td>\n      <td>772301001.0</td>\n      <td>Москва [3505]</td>\n    </tr>\n  </tbody>\n</table>\n</div>"
     },
     "metadata": {},
     "execution_count": 4
    }
   ],
   "source": [
    "types = {\n",
    "    'ИНН': np.int64,\n",
    "}\n",
    "dfs = pd.read_csv(r'data\\data.csv', dtype=types)\n",
    "dfs.head()"
   ]
  },
  {
   "cell_type": "code",
   "execution_count": 5,
   "metadata": {},
   "outputs": [],
   "source": [
    "with open(r'kbk.json', 'r') as f:\n",
    "    index_to_kbk = json.load(f)\n",
    "    kbk_to_index = {val: int(key) for key, val in index_to_kbk.items()}"
   ]
  },
  {
   "cell_type": "code",
   "execution_count": 6,
   "metadata": {},
   "outputs": [],
   "source": [
    "with open(r'acting.json', 'r') as f:\n",
    "    index_to_acting = json.load(f)\n",
    "    acting_to_index = {val: int(key) for key, val in index_to_acting.items()}"
   ]
  },
  {
   "cell_type": "code",
   "execution_count": 7,
   "metadata": {},
   "outputs": [],
   "source": [
    "with open(r'attr.json', 'r') as f:\n",
    "    index_to_attr = json.load(f)\n",
    "    attr_to_index = {val: int(key) for key, val in index_to_attr.items()}"
   ]
  },
  {
   "cell_type": "code",
   "execution_count": 8,
   "metadata": {},
   "outputs": [],
   "source": [
    "with open(r'forma.json', 'r') as f:\n",
    "    index_to_forma = json.load(f)\n",
    "    forma_to_index = {val: int(key) for key, val in index_to_forma.items()}"
   ]
  },
  {
   "cell_type": "code",
   "execution_count": 9,
   "metadata": {},
   "outputs": [],
   "source": [
    "with open(r'ocved.json', 'r') as f:\n",
    "    index_to_ocved = json.load(f)\n",
    "    ocved_to_index = {val: int(key) for key, val in index_to_ocved.items()}"
   ]
  },
  {
   "cell_type": "code",
   "execution_count": 10,
   "metadata": {},
   "outputs": [],
   "source": [
    "with open(r'otrasl.json', 'r') as f:\n",
    "    index_to_otrasl = json.load(f)\n",
    "    otrasl_to_index = {val: int(key) for key, val in index_to_otrasl.items()}"
   ]
  },
  {
   "cell_type": "code",
   "execution_count": 11,
   "metadata": {},
   "outputs": [],
   "source": [
    "with open(r'region.json', 'r') as f:\n",
    "    index_to_region = json.load(f)\n",
    "    region_to_index = {val: int(key) for key, val in index_to_region.items()}"
   ]
  },
  {
   "cell_type": "code",
   "execution_count": 12,
   "metadata": {},
   "outputs": [],
   "source": [
    "def get_data(df, split=None):\n",
    "    x = []\n",
    "    y = []\n",
    "    for _, line in df.iterrows():\n",
    "        tmp = []\n",
    "        \n",
    "        # ОКВЭД2\n",
    "        if type(line['ОКВЭД2']) != float:\n",
    "            ocved = line['ОКВЭД2'].split(' / ')[:5]\n",
    "            tmp += [ocved_to_index[i] for i in ocved]\n",
    "            if len(ocved) < 5:\n",
    "                tmp += [0] * (5-len(ocved))\n",
    "        else:\n",
    "            tmp += [ocved_to_index['-1']] + [0] * 4\n",
    "        \n",
    "        \n",
    "        # основной ТАСС\n",
    "        if type(line['Вид деятельности, основной ТАСС']) != float:\n",
    "            tmp += [acting_to_index[line['Вид деятельности, основной ТАСС']]]\n",
    "        else:\n",
    "            tmp += [acting_to_index['-1']]\n",
    "        \n",
    "        # дополнительный ТАСС\n",
    "        if type(line['Вид деятельности, дополнительный ТАСС']) != float:\n",
    "            dop = line['Вид деятельности, дополнительный ТАСС'].split(' / ')[:80]\n",
    "            tmp += [acting_to_index[i] for i in dop]\n",
    "            if len(dop) < 80:\n",
    "                tmp += [0] * (80-len(dop))\n",
    "        else:\n",
    "            tmp += [acting_to_index['-1']] + [0] * 79\n",
    "            \n",
    "        # Атрибуты предприятия\n",
    "        if type(line['Атрибуты предприятия']) != float:\n",
    "            attrs = line['Атрибуты предприятия'].split(' / ')[:3]\n",
    "            tmp += [attr_to_index[i] for i in attrs]\n",
    "            if len(attrs) < 3:\n",
    "                tmp += [0] * (3-len(attrs))\n",
    "        else:\n",
    "            tmp += [attr_to_index['-1']] + [0] * 2\n",
    "            \n",
    "        # Отрасль\n",
    "        if type(line['Отрасль']) != float:\n",
    "            otr = line['Отрасль'].split(' / ')[:2]\n",
    "            tmp += [otrasl_to_index[i] for i in otr]\n",
    "            if len(otr) < 2:\n",
    "                tmp += [0] * (2-len(otr))\n",
    "        else:\n",
    "            tmp += [otrasl_to_index['-1']] + [0]\n",
    "        \n",
    "        if type(line['Регион']) != float:\n",
    "            tmp += [region_to_index[line['Регион']]]\n",
    "        else:\n",
    "            tmp += [region_to_index['-1']]\n",
    "            \n",
    "        if type(line['Организационно правовая форма']) != float:\n",
    "            tmp += [forma_to_index[line['Организационно правовая форма']]]\n",
    "        else:\n",
    "            tmp += [forma_to_index['-1']]\n",
    "            \n",
    "        x.append(tmp)\n",
    "        y.append(kbk_to_index[line['KBK']])\n",
    "        \n",
    "    if split is not None:\n",
    "        return train_test_split(x, y, test_size=split, shuffle=True, stratify=y)\n",
    "        \n",
    "    return x, y"
   ]
  },
  {
   "cell_type": "code",
   "execution_count": 185,
   "metadata": {},
   "outputs": [],
   "source": [
    "x_train, x_test, y_train, y_test = get_data(dfs, split=0.3)"
   ]
  },
  {
   "cell_type": "code",
   "execution_count": 186,
   "metadata": {},
   "outputs": [
    {
     "output_type": "execute_result",
     "data": {
      "text/plain": [
       "((9938, 93), (9938,), (4260, 93), (4260,))"
      ]
     },
     "metadata": {},
     "execution_count": 186
    }
   ],
   "source": [
    "np.shape(x_train), np.shape(y_train), np.shape(x_test), np.shape(y_test)"
   ]
  },
  {
   "cell_type": "code",
   "execution_count": 187,
   "metadata": {},
   "outputs": [],
   "source": [
    "train_dataset = tf.data.Dataset.from_tensor_slices((x_train, y_train))\n",
    "test_dataset = tf.data.Dataset.from_tensor_slices((x_test, y_test))"
   ]
  },
  {
   "cell_type": "code",
   "execution_count": 114,
   "metadata": {},
   "outputs": [
    {
     "data": {
      "text/plain": [
       "GradientBoostingClassifier(max_depth=5, n_estimators=200)"
      ]
     },
     "execution_count": 114,
     "metadata": {},
     "output_type": "execute_result"
    }
   ],
   "source": [
    "model = GradientBoostingClassifier(n_estimators=200, learning_rate=0.1, max_depth=5)\n",
    "model.fit(x_train[:100], y_train[:100])"
   ]
  },
  {
   "cell_type": "code",
   "execution_count": 115,
   "metadata": {},
   "outputs": [
    {
     "data": {
      "text/plain": [
       "0.65"
      ]
     },
     "execution_count": 115,
     "metadata": {},
     "output_type": "execute_result"
    }
   ],
   "source": [
    "accuracy_score(y_train[:100], model.predict(x_train[:100]))"
   ]
  },
  {
   "cell_type": "code",
   "execution_count": 213,
   "metadata": {},
   "outputs": [
    {
     "output_type": "stream",
     "name": "stdout",
     "text": [
      "Model: \"sequential_24\"\n_________________________________________________________________\nLayer (type)                 Output Shape              Param #   \n=================================================================\ndense_38 (Dense)             (None, 256)               24064     \n_________________________________________________________________\ngaussian_dropout_12 (Gaussia (None, 256)               0         \n_________________________________________________________________\ndense_39 (Dense)             (None, 567)               145719    \n=================================================================\nTotal params: 169,783\nTrainable params: 169,783\nNon-trainable params: 0\n_________________________________________________________________\n"
     ]
    }
   ],
   "source": [
    "tf_model = tf.keras.Sequential([\n",
    "    tf.keras.layers.InputLayer((tf.shape(x_train)[-1],)),\n",
    "    tf.keras.layers.Dense(256, activation=tf.keras.activations.softsign),\n",
    "    tf.keras.layers.GaussianDropout(0.3),\n",
    "    tf.keras.layers.Dense(len(list(index_to_kbk.keys()))),\n",
    "])\n",
    "\n",
    "tf_model.summary()"
   ]
  },
  {
   "cell_type": "code",
   "execution_count": 214,
   "metadata": {},
   "outputs": [],
   "source": [
    "tf_model.compile(\n",
    "    optimizer=tf.keras.optimizers.Adam(0.001),\n",
    "    loss=tf.keras.losses.SparseCategoricalCrossentropy(from_logits=True),\n",
    "    metrics=['accuracy']\n",
    ")"
   ]
  },
  {
   "cell_type": "code",
   "execution_count": 215,
   "metadata": {},
   "outputs": [],
   "source": [
    "class PrintCallback(tf.keras.callbacks.Callback):\n",
    "    def on_epoch_end(self, epoch, logs=None):\n",
    "        if epoch == 0 or (epoch+1) % 10 == 0:\n",
    "            tf.print('Epoch {:3d}: loss - {:.4f}, val_loss - {:.4f}, acc - {:.4f}, val_acc - {:.4f}'.format(\n",
    "                epoch+1, logs['loss'], logs['val_loss'], logs['accuracy'], logs['val_accuracy']\n",
    "            ))"
   ]
  },
  {
   "cell_type": "code",
   "execution_count": 217,
   "metadata": {},
   "outputs": [
    {
     "output_type": "stream",
     "name": "stdout",
     "text": [
      "Epoch   1: loss - 2.6338, val_loss - 2.5848, acc - 0.3262, val_acc - 0.3547\n",
      "Epoch  10: loss - 2.6002, val_loss - 2.5830, acc - 0.3340, val_acc - 0.3624\n",
      "Epoch  20: loss - 2.6246, val_loss - 2.5846, acc - 0.3298, val_acc - 0.3617\n",
      "Epoch  30: loss - 2.5568, val_loss - 2.5511, acc - 0.3435, val_acc - 0.3589\n",
      "Epoch  40: loss - 2.5423, val_loss - 2.4992, acc - 0.3364, val_acc - 0.3782\n",
      "Epoch  50: loss - 2.4822, val_loss - 2.5042, acc - 0.3491, val_acc - 0.3685\n",
      "Epoch  60: loss - 2.4534, val_loss - 2.4339, acc - 0.3531, val_acc - 0.3958\n",
      "Epoch  70: loss - 2.4893, val_loss - 2.4695, acc - 0.3496, val_acc - 0.3758\n",
      "Epoch  80: loss - 2.4566, val_loss - 2.4667, acc - 0.3556, val_acc - 0.3829\n",
      "Epoch  90: loss - 2.4201, val_loss - 2.4360, acc - 0.3621, val_acc - 0.3862\n",
      "Epoch 100: loss - 2.3930, val_loss - 2.4067, acc - 0.3651, val_acc - 0.3883\n"
     ]
    },
    {
     "output_type": "execute_result",
     "data": {
      "text/plain": [
       "<tensorflow.python.keras.callbacks.History at 0x25d8c65aa08>"
      ]
     },
     "metadata": {},
     "execution_count": 217
    }
   ],
   "source": [
    "tf_model.fit(x_train, y_train, validation_data=(x_test, y_test), epochs=100, verbose=0, callbacks=[PrintCallback()])"
   ]
  },
  {
   "cell_type": "code",
   "execution_count": 183,
   "metadata": {},
   "outputs": [],
   "source": [
    "dataset = pd.read_csv(r'data\\dataset.csv')\n",
    "y_train = dataset.pop('label')\n",
    "\n",
    "est_dataset = tf.data.Dataset.from_tensor_slices((dict(dataset), y_train)).repeat(20).batch(len(y_train))\n",
    "\n",
    "NUMERIC_COLUMNS = list(dataset.columns)\n",
    "feature_columns = []\n",
    "\n",
    "for feature_name in NUMERIC_COLUMNS:\n",
    "    feature_columns.append(tf.feature_column.numeric_column(feature_name, dtype=tf.int64))"
   ]
  },
  {
   "cell_type": "code",
   "execution_count": 184,
   "metadata": {},
   "outputs": [
    {
     "output_type": "stream",
     "name": "stdout",
     "text": [
      "INFO:tensorflow:Using default config.\n",
      "WARNING:tensorflow:Using temporary folder as model directory: C:\\Users\\TheDim0n\\AppData\\Local\\Temp\\tmp96qn3r5v\n",
      "INFO:tensorflow:Using config: {'_model_dir': 'C:\\\\Users\\\\TheDim0n\\\\AppData\\\\Local\\\\Temp\\\\tmp96qn3r5v', '_tf_random_seed': None, '_save_summary_steps': 100, '_save_checkpoints_steps': None, '_save_checkpoints_secs': 600, '_session_config': allow_soft_placement: true\n",
      "graph_options {\n",
      "  rewrite_options {\n",
      "    meta_optimizer_iterations: ONE\n",
      "  }\n",
      "}\n",
      ", '_keep_checkpoint_max': 5, '_keep_checkpoint_every_n_hours': 10000, '_log_step_count_steps': 100, '_train_distribute': None, '_device_fn': None, '_protocol': None, '_eval_distribute': None, '_experimental_distribute': None, '_experimental_max_worker_delay_secs': None, '_session_creation_timeout_secs': 7200, '_checkpoint_save_graph_def': True, '_service': None, '_cluster_spec': ClusterSpec({}), '_task_type': 'worker', '_task_id': 0, '_global_id_in_cluster': 0, '_master': '', '_evaluation_master': '', '_is_chief': True, '_num_ps_replicas': 0, '_num_worker_replicas': 1}\n"
     ]
    },
    {
     "output_type": "error",
     "ename": "TypeError",
     "evalue": "unsupported callable",
     "traceback": [
      "\u001b[1;31m---------------------------------------------------------------------------\u001b[0m",
      "\u001b[1;31mTypeError\u001b[0m                                 Traceback (most recent call last)",
      "\u001b[1;32mD:\\Programs\\Python3\\lib\\inspect.py\u001b[0m in \u001b[0;36mgetfullargspec\u001b[1;34m(func)\u001b[0m\n\u001b[0;32m   1125\u001b[0m                                        \u001b[0mskip_bound_arg\u001b[0m\u001b[1;33m=\u001b[0m\u001b[1;32mFalse\u001b[0m\u001b[1;33m,\u001b[0m\u001b[1;33m\u001b[0m\u001b[1;33m\u001b[0m\u001b[0m\n\u001b[1;32m-> 1126\u001b[1;33m                                        sigcls=Signature)\n\u001b[0m\u001b[0;32m   1127\u001b[0m     \u001b[1;32mexcept\u001b[0m \u001b[0mException\u001b[0m \u001b[1;32mas\u001b[0m \u001b[0mex\u001b[0m\u001b[1;33m:\u001b[0m\u001b[1;33m\u001b[0m\u001b[1;33m\u001b[0m\u001b[0m\n",
      "\u001b[1;32mD:\\Programs\\Python3\\lib\\inspect.py\u001b[0m in \u001b[0;36m_signature_from_callable\u001b[1;34m(obj, follow_wrapper_chains, skip_bound_arg, sigcls)\u001b[0m\n\u001b[0;32m   2207\u001b[0m     \u001b[1;32mif\u001b[0m \u001b[1;32mnot\u001b[0m \u001b[0mcallable\u001b[0m\u001b[1;33m(\u001b[0m\u001b[0mobj\u001b[0m\u001b[1;33m)\u001b[0m\u001b[1;33m:\u001b[0m\u001b[1;33m\u001b[0m\u001b[1;33m\u001b[0m\u001b[0m\n\u001b[1;32m-> 2208\u001b[1;33m         \u001b[1;32mraise\u001b[0m \u001b[0mTypeError\u001b[0m\u001b[1;33m(\u001b[0m\u001b[1;34m'{!r} is not a callable object'\u001b[0m\u001b[1;33m.\u001b[0m\u001b[0mformat\u001b[0m\u001b[1;33m(\u001b[0m\u001b[0mobj\u001b[0m\u001b[1;33m)\u001b[0m\u001b[1;33m)\u001b[0m\u001b[1;33m\u001b[0m\u001b[1;33m\u001b[0m\u001b[0m\n\u001b[0m\u001b[0;32m   2209\u001b[0m \u001b[1;33m\u001b[0m\u001b[0m\n",
      "\u001b[1;31mTypeError\u001b[0m: <BatchDataset shapes: ({1: (None,), 2: (None,), 3: (None,), 4: (None,), 5: (None,), 6: (None,), 7: (None,), 8: (None,), 9: (None,), 10: (None,), 11: (None,), 12: (None,), 13: (None,), 14: (None,), 15: (None,), 16: (None,), 17: (None,), 18: (None,), 19: (None,), 20: (None,), 21: (None,), 22: (None,), 23: (None,), 24: (None,), 25: (None,), 26: (None,), 27: (None,), 28: (None,), 29: (None,), 30: (None,), 31: (None,), 32: (None,), 33: (None,), 34: (None,), 35: (None,), 36: (None,), 37: (None,), 38: (None,), 39: (None,), 40: (None,), 41: (None,), 42: (None,), 43: (None,), 44: (None,), 45: (None,), 46: (None,), 47: (None,), 48: (None,), 49: (None,), 50: (None,), 51: (None,), 52: (None,), 53: (None,), 54: (None,), 55: (None,), 56: (None,), 57: (None,), 58: (None,), 59: (None,), 60: (None,), 61: (None,), 62: (None,), 63: (None,), 64: (None,), 65: (None,), 66: (None,), 67: (None,), 68: (None,), 69: (None,), 70: (None,), 71: (None,), 72: (None,), 73: (None,), 74: (None,), 75: (None,), 76: (None,), 77: (None,), 78: (None,), 79: (None,), 80: (None,), 81: (None,), 82: (None,), 83: (None,), 84: (None,), 85: (None,), 86: (None,), 87: (None,), 88: (None,), 89: (None,), 90: (None,), 91: (None,), 92: (None,), 93: (None,)}, (None,)), types: ({1: tf.int64, 2: tf.int64, 3: tf.int64, 4: tf.int64, 5: tf.int64, 6: tf.int64, 7: tf.int64, 8: tf.int64, 9: tf.int64, 10: tf.int64, 11: tf.int64, 12: tf.int64, 13: tf.int64, 14: tf.int64, 15: tf.int64, 16: tf.int64, 17: tf.int64, 18: tf.int64, 19: tf.int64, 20: tf.int64, 21: tf.int64, 22: tf.int64, 23: tf.int64, 24: tf.int64, 25: tf.int64, 26: tf.int64, 27: tf.int64, 28: tf.int64, 29: tf.int64, 30: tf.int64, 31: tf.int64, 32: tf.int64, 33: tf.int64, 34: tf.int64, 35: tf.int64, 36: tf.int64, 37: tf.int64, 38: tf.int64, 39: tf.int64, 40: tf.int64, 41: tf.int64, 42: tf.int64, 43: tf.int64, 44: tf.int64, 45: tf.int64, 46: tf.int64, 47: tf.int64, 48: tf.int64, 49: tf.int64, 50: tf.int64, 51: tf.int64, 52: tf.int64, 53: tf.int64, 54: tf.int64, 55: tf.int64, 56: tf.int64, 57: tf.int64, 58: tf.int64, 59: tf.int64, 60: tf.int64, 61: tf.int64, 62: tf.int64, 63: tf.int64, 64: tf.int64, 65: tf.int64, 66: tf.int64, 67: tf.int64, 68: tf.int64, 69: tf.int64, 70: tf.int64, 71: tf.int64, 72: tf.int64, 73: tf.int64, 74: tf.int64, 75: tf.int64, 76: tf.int64, 77: tf.int64, 78: tf.int64, 79: tf.int64, 80: tf.int64, 81: tf.int64, 82: tf.int64, 83: tf.int64, 84: tf.int64, 85: tf.int64, 86: tf.int64, 87: tf.int64, 88: tf.int64, 89: tf.int64, 90: tf.int64, 91: tf.int64, 92: tf.int64, 93: tf.int64}, tf.int64)> is not a callable object",
      "\nThe above exception was the direct cause of the following exception:\n",
      "\u001b[1;31mTypeError\u001b[0m                                 Traceback (most recent call last)",
      "\u001b[1;32m<ipython-input-184-32e4a01836c5>\u001b[0m in \u001b[0;36m<module>\u001b[1;34m\u001b[0m\n\u001b[0;32m      1\u001b[0m \u001b[0mest\u001b[0m \u001b[1;33m=\u001b[0m \u001b[0mtf\u001b[0m\u001b[1;33m.\u001b[0m\u001b[0mestimator\u001b[0m\u001b[1;33m.\u001b[0m\u001b[0mBoostedTreesClassifier\u001b[0m\u001b[1;33m(\u001b[0m\u001b[0mfeature_columns\u001b[0m\u001b[1;33m,\u001b[0m \u001b[0mn_batches_per_layer\u001b[0m\u001b[1;33m=\u001b[0m\u001b[1;36m1\u001b[0m\u001b[1;33m,\u001b[0m \u001b[0mn_classes\u001b[0m\u001b[1;33m=\u001b[0m\u001b[0mlen\u001b[0m\u001b[1;33m(\u001b[0m\u001b[0my_train\u001b[0m\u001b[1;33m.\u001b[0m\u001b[0munique\u001b[0m\u001b[1;33m(\u001b[0m\u001b[1;33m)\u001b[0m\u001b[1;33m)\u001b[0m\u001b[1;33m)\u001b[0m\u001b[1;33m\u001b[0m\u001b[1;33m\u001b[0m\u001b[0m\n\u001b[1;32m----> 2\u001b[1;33m \u001b[0mest\u001b[0m\u001b[1;33m.\u001b[0m\u001b[0mtrain\u001b[0m\u001b[1;33m(\u001b[0m\u001b[0mest_dataset\u001b[0m\u001b[1;33m,\u001b[0m \u001b[0mmax_steps\u001b[0m\u001b[1;33m=\u001b[0m\u001b[1;36m100\u001b[0m\u001b[1;33m)\u001b[0m\u001b[1;33m\u001b[0m\u001b[1;33m\u001b[0m\u001b[0m\n\u001b[0m",
      "\u001b[1;32md:\\Work\\GISP\\venv\\lib\\site-packages\\tensorflow_estimator\\python\\estimator\\estimator.py\u001b[0m in \u001b[0;36mtrain\u001b[1;34m(self, input_fn, hooks, steps, max_steps, saving_listeners)\u001b[0m\n\u001b[0;32m    347\u001b[0m \u001b[1;33m\u001b[0m\u001b[0m\n\u001b[0;32m    348\u001b[0m       \u001b[0msaving_listeners\u001b[0m \u001b[1;33m=\u001b[0m \u001b[0m_check_listeners_type\u001b[0m\u001b[1;33m(\u001b[0m\u001b[0msaving_listeners\u001b[0m\u001b[1;33m)\u001b[0m\u001b[1;33m\u001b[0m\u001b[1;33m\u001b[0m\u001b[0m\n\u001b[1;32m--> 349\u001b[1;33m       \u001b[0mloss\u001b[0m \u001b[1;33m=\u001b[0m \u001b[0mself\u001b[0m\u001b[1;33m.\u001b[0m\u001b[0m_train_model\u001b[0m\u001b[1;33m(\u001b[0m\u001b[0minput_fn\u001b[0m\u001b[1;33m,\u001b[0m \u001b[0mhooks\u001b[0m\u001b[1;33m,\u001b[0m \u001b[0msaving_listeners\u001b[0m\u001b[1;33m)\u001b[0m\u001b[1;33m\u001b[0m\u001b[1;33m\u001b[0m\u001b[0m\n\u001b[0m\u001b[0;32m    350\u001b[0m       \u001b[0mlogging\u001b[0m\u001b[1;33m.\u001b[0m\u001b[0minfo\u001b[0m\u001b[1;33m(\u001b[0m\u001b[1;34m'Loss for final step: %s.'\u001b[0m\u001b[1;33m,\u001b[0m \u001b[0mloss\u001b[0m\u001b[1;33m)\u001b[0m\u001b[1;33m\u001b[0m\u001b[1;33m\u001b[0m\u001b[0m\n\u001b[0;32m    351\u001b[0m       \u001b[1;32mreturn\u001b[0m \u001b[0mself\u001b[0m\u001b[1;33m\u001b[0m\u001b[1;33m\u001b[0m\u001b[0m\n",
      "\u001b[1;32md:\\Work\\GISP\\venv\\lib\\site-packages\\tensorflow_estimator\\python\\estimator\\estimator.py\u001b[0m in \u001b[0;36m_train_model\u001b[1;34m(self, input_fn, hooks, saving_listeners)\u001b[0m\n\u001b[0;32m   1173\u001b[0m       \u001b[1;32mreturn\u001b[0m \u001b[0mself\u001b[0m\u001b[1;33m.\u001b[0m\u001b[0m_train_model_distributed\u001b[0m\u001b[1;33m(\u001b[0m\u001b[0minput_fn\u001b[0m\u001b[1;33m,\u001b[0m \u001b[0mhooks\u001b[0m\u001b[1;33m,\u001b[0m \u001b[0msaving_listeners\u001b[0m\u001b[1;33m)\u001b[0m\u001b[1;33m\u001b[0m\u001b[1;33m\u001b[0m\u001b[0m\n\u001b[0;32m   1174\u001b[0m     \u001b[1;32melse\u001b[0m\u001b[1;33m:\u001b[0m\u001b[1;33m\u001b[0m\u001b[1;33m\u001b[0m\u001b[0m\n\u001b[1;32m-> 1175\u001b[1;33m       \u001b[1;32mreturn\u001b[0m \u001b[0mself\u001b[0m\u001b[1;33m.\u001b[0m\u001b[0m_train_model_default\u001b[0m\u001b[1;33m(\u001b[0m\u001b[0minput_fn\u001b[0m\u001b[1;33m,\u001b[0m \u001b[0mhooks\u001b[0m\u001b[1;33m,\u001b[0m \u001b[0msaving_listeners\u001b[0m\u001b[1;33m)\u001b[0m\u001b[1;33m\u001b[0m\u001b[1;33m\u001b[0m\u001b[0m\n\u001b[0m\u001b[0;32m   1176\u001b[0m \u001b[1;33m\u001b[0m\u001b[0m\n\u001b[0;32m   1177\u001b[0m   \u001b[1;32mdef\u001b[0m \u001b[0m_train_model_default\u001b[0m\u001b[1;33m(\u001b[0m\u001b[0mself\u001b[0m\u001b[1;33m,\u001b[0m \u001b[0minput_fn\u001b[0m\u001b[1;33m,\u001b[0m \u001b[0mhooks\u001b[0m\u001b[1;33m,\u001b[0m \u001b[0msaving_listeners\u001b[0m\u001b[1;33m)\u001b[0m\u001b[1;33m:\u001b[0m\u001b[1;33m\u001b[0m\u001b[1;33m\u001b[0m\u001b[0m\n",
      "\u001b[1;32md:\\Work\\GISP\\venv\\lib\\site-packages\\tensorflow_estimator\\python\\estimator\\estimator.py\u001b[0m in \u001b[0;36m_train_model_default\u001b[1;34m(self, input_fn, hooks, saving_listeners)\u001b[0m\n\u001b[0;32m   1199\u001b[0m \u001b[1;33m\u001b[0m\u001b[0m\n\u001b[0;32m   1200\u001b[0m       features, labels, input_hooks = (\n\u001b[1;32m-> 1201\u001b[1;33m           self._get_features_and_labels_from_input_fn(input_fn, ModeKeys.TRAIN))\n\u001b[0m\u001b[0;32m   1202\u001b[0m       \u001b[0mworker_hooks\u001b[0m\u001b[1;33m.\u001b[0m\u001b[0mextend\u001b[0m\u001b[1;33m(\u001b[0m\u001b[0minput_hooks\u001b[0m\u001b[1;33m)\u001b[0m\u001b[1;33m\u001b[0m\u001b[1;33m\u001b[0m\u001b[0m\n\u001b[0;32m   1203\u001b[0m       estimator_spec = self._call_model_fn(features, labels, ModeKeys.TRAIN,\n",
      "\u001b[1;32md:\\Work\\GISP\\venv\\lib\\site-packages\\tensorflow_estimator\\python\\estimator\\estimator.py\u001b[0m in \u001b[0;36m_get_features_and_labels_from_input_fn\u001b[1;34m(self, input_fn, mode)\u001b[0m\n\u001b[0;32m   1035\u001b[0m     \u001b[1;34m\"\"\"Extracts the `features` and labels from return values of `input_fn`.\"\"\"\u001b[0m\u001b[1;33m\u001b[0m\u001b[1;33m\u001b[0m\u001b[0m\n\u001b[0;32m   1036\u001b[0m     return estimator_util.parse_input_fn_result(\n\u001b[1;32m-> 1037\u001b[1;33m         self._call_input_fn(input_fn, mode))\n\u001b[0m\u001b[0;32m   1038\u001b[0m \u001b[1;33m\u001b[0m\u001b[0m\n\u001b[0;32m   1039\u001b[0m   \u001b[1;32mdef\u001b[0m \u001b[0m_extract_batch_length\u001b[0m\u001b[1;33m(\u001b[0m\u001b[0mself\u001b[0m\u001b[1;33m,\u001b[0m \u001b[0mpreds_evaluated\u001b[0m\u001b[1;33m)\u001b[0m\u001b[1;33m:\u001b[0m\u001b[1;33m\u001b[0m\u001b[1;33m\u001b[0m\u001b[0m\n",
      "\u001b[1;32md:\\Work\\GISP\\venv\\lib\\site-packages\\tensorflow_estimator\\python\\estimator\\estimator.py\u001b[0m in \u001b[0;36m_call_input_fn\u001b[1;34m(self, input_fn, mode, input_context)\u001b[0m\n\u001b[0;32m   1114\u001b[0m       \u001b[0mValueError\u001b[0m\u001b[1;33m:\u001b[0m \u001b[1;32mif\u001b[0m\u001b[0;31m \u001b[0m\u001b[0;31m`\u001b[0m\u001b[0minput_fn\u001b[0m\u001b[0;31m`\u001b[0m \u001b[0mtakes\u001b[0m \u001b[0minvalid\u001b[0m \u001b[0marguments\u001b[0m\u001b[1;33m.\u001b[0m\u001b[1;33m\u001b[0m\u001b[1;33m\u001b[0m\u001b[0m\n\u001b[0;32m   1115\u001b[0m     \"\"\"\n\u001b[1;32m-> 1116\u001b[1;33m     \u001b[0minput_fn_args\u001b[0m \u001b[1;33m=\u001b[0m \u001b[0mfunction_utils\u001b[0m\u001b[1;33m.\u001b[0m\u001b[0mfn_args\u001b[0m\u001b[1;33m(\u001b[0m\u001b[0minput_fn\u001b[0m\u001b[1;33m)\u001b[0m\u001b[1;33m\u001b[0m\u001b[1;33m\u001b[0m\u001b[0m\n\u001b[0m\u001b[0;32m   1117\u001b[0m     \u001b[0mkwargs\u001b[0m \u001b[1;33m=\u001b[0m \u001b[1;33m{\u001b[0m\u001b[1;33m}\u001b[0m\u001b[1;33m\u001b[0m\u001b[1;33m\u001b[0m\u001b[0m\n\u001b[0;32m   1118\u001b[0m     \u001b[1;32mif\u001b[0m \u001b[1;34m'mode'\u001b[0m \u001b[1;32min\u001b[0m \u001b[0minput_fn_args\u001b[0m\u001b[1;33m:\u001b[0m\u001b[1;33m\u001b[0m\u001b[1;33m\u001b[0m\u001b[0m\n",
      "\u001b[1;32md:\\Work\\GISP\\venv\\lib\\site-packages\\tensorflow\\python\\util\\function_utils.py\u001b[0m in \u001b[0;36mfn_args\u001b[1;34m(fn)\u001b[0m\n\u001b[0;32m     55\u001b[0m     \u001b[1;32mif\u001b[0m \u001b[0m_is_callable_object\u001b[0m\u001b[1;33m(\u001b[0m\u001b[0mfn\u001b[0m\u001b[1;33m)\u001b[0m\u001b[1;33m:\u001b[0m\u001b[1;33m\u001b[0m\u001b[1;33m\u001b[0m\u001b[0m\n\u001b[0;32m     56\u001b[0m       \u001b[0mfn\u001b[0m \u001b[1;33m=\u001b[0m \u001b[0mfn\u001b[0m\u001b[1;33m.\u001b[0m\u001b[0m__call__\u001b[0m\u001b[1;33m\u001b[0m\u001b[1;33m\u001b[0m\u001b[0m\n\u001b[1;32m---> 57\u001b[1;33m     \u001b[0margs\u001b[0m \u001b[1;33m=\u001b[0m \u001b[0mtf_inspect\u001b[0m\u001b[1;33m.\u001b[0m\u001b[0mgetfullargspec\u001b[0m\u001b[1;33m(\u001b[0m\u001b[0mfn\u001b[0m\u001b[1;33m)\u001b[0m\u001b[1;33m.\u001b[0m\u001b[0margs\u001b[0m\u001b[1;33m\u001b[0m\u001b[1;33m\u001b[0m\u001b[0m\n\u001b[0m\u001b[0;32m     58\u001b[0m     \u001b[1;32mif\u001b[0m \u001b[0m_is_bound_method\u001b[0m\u001b[1;33m(\u001b[0m\u001b[0mfn\u001b[0m\u001b[1;33m)\u001b[0m \u001b[1;32mand\u001b[0m \u001b[0margs\u001b[0m\u001b[1;33m:\u001b[0m\u001b[1;33m\u001b[0m\u001b[1;33m\u001b[0m\u001b[0m\n\u001b[0;32m     59\u001b[0m       \u001b[1;31m# If it's a bound method, it may or may not have a self/cls first\u001b[0m\u001b[1;33m\u001b[0m\u001b[1;33m\u001b[0m\u001b[1;33m\u001b[0m\u001b[0m\n",
      "\u001b[1;32md:\\Work\\GISP\\venv\\lib\\site-packages\\tensorflow\\python\\util\\tf_inspect.py\u001b[0m in \u001b[0;36mgetfullargspec\u001b[1;34m(obj)\u001b[0m\n\u001b[0;32m    255\u001b[0m     \u001b[1;32mif\u001b[0m \u001b[0md\u001b[0m\u001b[1;33m.\u001b[0m\u001b[0mdecorator_argspec\u001b[0m \u001b[1;32mis\u001b[0m \u001b[1;32mnot\u001b[0m \u001b[1;32mNone\u001b[0m\u001b[1;33m:\u001b[0m\u001b[1;33m\u001b[0m\u001b[1;33m\u001b[0m\u001b[0m\n\u001b[0;32m    256\u001b[0m       \u001b[1;32mreturn\u001b[0m \u001b[0m_convert_maybe_argspec_to_fullargspec\u001b[0m\u001b[1;33m(\u001b[0m\u001b[0md\u001b[0m\u001b[1;33m.\u001b[0m\u001b[0mdecorator_argspec\u001b[0m\u001b[1;33m)\u001b[0m\u001b[1;33m\u001b[0m\u001b[1;33m\u001b[0m\u001b[0m\n\u001b[1;32m--> 257\u001b[1;33m   \u001b[1;32mreturn\u001b[0m \u001b[0m_getfullargspec\u001b[0m\u001b[1;33m(\u001b[0m\u001b[0mtarget\u001b[0m\u001b[1;33m)\u001b[0m\u001b[1;33m\u001b[0m\u001b[1;33m\u001b[0m\u001b[0m\n\u001b[0m\u001b[0;32m    258\u001b[0m \u001b[1;33m\u001b[0m\u001b[0m\n\u001b[0;32m    259\u001b[0m \u001b[1;33m\u001b[0m\u001b[0m\n",
      "\u001b[1;32mD:\\Programs\\Python3\\lib\\inspect.py\u001b[0m in \u001b[0;36mgetfullargspec\u001b[1;34m(func)\u001b[0m\n\u001b[0;32m   1130\u001b[0m         \u001b[1;31m# else. So to be fully backwards compatible, we catch all\u001b[0m\u001b[1;33m\u001b[0m\u001b[1;33m\u001b[0m\u001b[1;33m\u001b[0m\u001b[0m\n\u001b[0;32m   1131\u001b[0m         \u001b[1;31m# possible exceptions here, and reraise a TypeError.\u001b[0m\u001b[1;33m\u001b[0m\u001b[1;33m\u001b[0m\u001b[1;33m\u001b[0m\u001b[0m\n\u001b[1;32m-> 1132\u001b[1;33m         \u001b[1;32mraise\u001b[0m \u001b[0mTypeError\u001b[0m\u001b[1;33m(\u001b[0m\u001b[1;34m'unsupported callable'\u001b[0m\u001b[1;33m)\u001b[0m \u001b[1;32mfrom\u001b[0m \u001b[0mex\u001b[0m\u001b[1;33m\u001b[0m\u001b[1;33m\u001b[0m\u001b[0m\n\u001b[0m\u001b[0;32m   1133\u001b[0m \u001b[1;33m\u001b[0m\u001b[0m\n\u001b[0;32m   1134\u001b[0m     \u001b[0margs\u001b[0m \u001b[1;33m=\u001b[0m \u001b[1;33m[\u001b[0m\u001b[1;33m]\u001b[0m\u001b[1;33m\u001b[0m\u001b[1;33m\u001b[0m\u001b[0m\n",
      "\u001b[1;31mTypeError\u001b[0m: unsupported callable"
     ]
    }
   ],
   "source": [
    "est = tf.estimator.BoostedTreesClassifier(feature_columns, n_batches_per_layer=1, n_classes=len(y_train.unique()))\n",
    "est.train(est_dataset, max_steps=100)"
   ]
  },
  {
   "cell_type": "code",
   "execution_count": 171,
   "metadata": {},
   "outputs": [
    {
     "output_type": "execute_result",
     "data": {
      "text/plain": [
       "93"
      ]
     },
     "metadata": {},
     "execution_count": 171
    }
   ],
   "source": [
    "len(feature_columns)"
   ]
  },
  {
   "cell_type": "code",
   "execution_count": 174,
   "metadata": {},
   "outputs": [
    {
     "output_type": "execute_result",
     "data": {
      "text/plain": [
       "567"
      ]
     },
     "metadata": {},
     "execution_count": 174
    }
   ],
   "source": [
    "len(y_train.unique())"
   ]
  },
  {
   "cell_type": "code",
   "execution_count": null,
   "metadata": {},
   "outputs": [],
   "source": []
  }
 ],
 "metadata": {
  "kernelspec": {
   "display_name": "gisp",
   "language": "python",
   "name": "gisp"
  },
  "language_info": {
   "codemirror_mode": {
    "name": "ipython",
    "version": 3
   },
   "file_extension": ".py",
   "mimetype": "text/x-python",
   "name": "python",
   "nbconvert_exporter": "python",
   "pygments_lexer": "ipython3",
   "version": "3.7.9"
  }
 },
 "nbformat": 4,
 "nbformat_minor": 4
}